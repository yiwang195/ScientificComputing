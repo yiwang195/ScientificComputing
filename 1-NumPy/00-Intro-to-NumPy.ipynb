{
 "cells": [
  {
   "cell_type": "markdown",
   "metadata": {},
   "source": [
    "# Intro to Numpy\n",
    "\n",
    "NumPy, short for Numeric Python, is useful primarily because of it provides a brings the **<u>N-dimensional array</u>** to the Python coding environment. \n",
    "\n",
    "This notebook demonstrates the limitations of Python's built-in data types in executing some scientific analyses, and then illustrates the utility of NumPy's ND array object. \n",
    "\n",
    "Source: https://campus.datacamp.com/courses/intro-to-python-for-data-science"
   ]
  },
  {
   "cell_type": "markdown",
   "metadata": {},
   "source": [
    "### Motivation for using NumPy -- It's useful and it's *fast*!\n",
    "While most of what NumPy can do can be done using native Python objects (e.g. lists, tuples, etc.), NumPy makes certain calcultions not only easier, but much faster. Let's explore an example...\n",
    "\n",
    "---\n",
    "First, let's create a dummy datasets of heights and weights of 5 imaginary people. "
   ]
  },
  {
   "cell_type": "code",
   "execution_count": 1,
   "metadata": {},
   "outputs": [
    {
     "name": "stdout",
     "output_type": "stream",
     "text": [
      "[1.73, 1.68, 1.17, 1.89, 1.79]\n",
      "[65.4, 59.2, 63.6, 88.4, 68.7]\n"
     ]
    }
   ],
   "source": [
    "#Create a list of heights and weights\n",
    "height = [1.73, 1.68, 1.17, 1.89, 1.79]\n",
    "weight = [65.4, 59.2, 63.6, 88.4, 68.7]\n",
    "print (height)\n",
    "print (weight)"
   ]
  },
  {
   "cell_type": "markdown",
   "metadata": {},
   "source": [
    "If we assume body mass index `(BMI) = weight / height ** 2`, what would it take to compute BMI for our data?"
   ]
  },
  {
   "cell_type": "code",
   "execution_count": 2,
   "metadata": {},
   "outputs": [
    {
     "ename": "TypeError",
     "evalue": "unsupported operand type(s) for ** or pow(): 'list' and 'int'",
     "output_type": "error",
     "traceback": [
      "\u001b[1;31m---------------------------------------------------------------------------\u001b[0m",
      "\u001b[1;31mTypeError\u001b[0m                                 Traceback (most recent call last)",
      "\u001b[1;32m<ipython-input-2-b0b40e1c952d>\u001b[0m in \u001b[0;36m<module>\u001b[1;34m\u001b[0m\n\u001b[0;32m      1\u001b[0m \u001b[1;31m#[Attempt to] compute BMI from lists\u001b[0m\u001b[1;33m\u001b[0m\u001b[1;33m\u001b[0m\u001b[1;33m\u001b[0m\u001b[0m\n\u001b[1;32m----> 2\u001b[1;33m \u001b[0mbmi\u001b[0m \u001b[1;33m=\u001b[0m \u001b[0mweight\u001b[0m\u001b[1;33m/\u001b[0m\u001b[0mheight\u001b[0m \u001b[1;33m**\u001b[0m \u001b[1;36m2\u001b[0m\u001b[1;33m\u001b[0m\u001b[1;33m\u001b[0m\u001b[0m\n\u001b[0m",
      "\u001b[1;31mTypeError\u001b[0m: unsupported operand type(s) for ** or pow(): 'list' and 'int'"
     ]
    }
   ],
   "source": [
    "#[Attempt to] compute BMI from lists\n",
    "bmi = weight/height ** 2"
   ]
  },
  {
   "cell_type": "markdown",
   "metadata": {},
   "source": [
    "The above attempt raises an error because <u>we can't do this with lists</u>.<br>\n",
    "The only way around this is to iterate through each item in the lists..."
   ]
  },
  {
   "cell_type": "code",
   "execution_count": 3,
   "metadata": {},
   "outputs": [
    {
     "name": "stdout",
     "output_type": "stream",
     "text": [
      "[21.85171572722109, 20.97505668934241, 46.46066184527724, 24.74734749867025, 21.44127836209856]\n"
     ]
    }
   ],
   "source": [
    "#Compute BMI from lists\n",
    "bmi = []\n",
    "for idx in range(len(height)):\n",
    "    bmi.append(weight[idx] / height[idx] ** 2)\n",
    "print (bmi)"
   ]
  },
  {
   "cell_type": "markdown",
   "metadata": {},
   "source": [
    "However with `NumPy`, we have access to more data types, specifically `arrays`, that can speed through this process. "
   ]
  },
  {
   "cell_type": "code",
   "execution_count": 4,
   "metadata": {},
   "outputs": [],
   "source": [
    "#Import numpy, often done using the alias 'np'\n",
    "import numpy as np"
   ]
  },
  {
   "cell_type": "code",
   "execution_count": 5,
   "metadata": {},
   "outputs": [
    {
     "name": "stdout",
     "output_type": "stream",
     "text": [
      "[1.73 1.68 1.17 1.89 1.79]\n",
      "[65.4 59.2 63.6 88.4 68.7]\n"
     ]
    }
   ],
   "source": [
    "#Convert the height and weight lists to arrays\n",
    "arrHeight = np.array(height)\n",
    "arrWeight = np.array(weight)\n",
    "\n",
    "print (arrHeight)\n",
    "print (arrWeight)"
   ]
  },
  {
   "cell_type": "markdown",
   "metadata": {},
   "source": [
    "NumPy arrays allow us to do computations on entire collections..."
   ]
  },
  {
   "cell_type": "code",
   "execution_count": 6,
   "metadata": {},
   "outputs": [
    {
     "name": "stdout",
     "output_type": "stream",
     "text": [
      "[144.182148 130.513504 140.213832 194.888408 151.457394]\n"
     ]
    }
   ],
   "source": [
    "#Convert weight from kg to lbs\n",
    "print(arrWeight * 2.20462)"
   ]
  },
  {
   "cell_type": "code",
   "execution_count": 7,
   "metadata": {},
   "outputs": [
    {
     "name": "stdout",
     "output_type": "stream",
     "text": [
      "[21.85171573 20.97505669 46.46066185 24.7473475  21.44127836]\n"
     ]
    }
   ],
   "source": [
    "#Compute BMI from weights and heights\n",
    "arrBMI = arrWeight / arrHeight ** 2\n",
    "print (arrBMI)"
   ]
  },
  {
   "cell_type": "markdown",
   "metadata": {},
   "source": [
    "**Take home message**: \n",
    "* Both Python *lists/tuples* and Numpy *arrays* store values that can be referenced by their index.\n",
    "* BUT, operations on NumPy arrays, such as multiplication, can be done on all values at once, i.e. without iteration.\n",
    "* HOWEVER, NumPy arrays, unlike lists/tuples, can store only numeric data and all data must be of the same time (integer *or* floating point)."
   ]
  },
  {
   "cell_type": "markdown",
   "metadata": {},
   "source": [
    "---\n",
    "### NumPy is fast...\n",
    "Ok, but now look at the speed boost that NumPy gives us. Here we'll use Jupyter's `%timeit%` command, which repeats specified code a number of times so it can report how fast that code runs. We'll use it to compare the same calculation - computing the square of all numbers from 1 to 1000 - done in both native Python and in NumPy..."
   ]
  },
  {
   "cell_type": "code",
   "execution_count": 8,
   "metadata": {},
   "outputs": [],
   "source": [
    "#Construct a list of values from 0 to 999\n",
    "L = range(1000)"
   ]
  },
  {
   "cell_type": "code",
   "execution_count": 9,
   "metadata": {},
   "outputs": [
    {
     "name": "stdout",
     "output_type": "stream",
     "text": [
      "372 µs ± 15.6 µs per loop (mean ± std. dev. of 7 runs, 1000 loops each)\n"
     ]
    }
   ],
   "source": [
    "#How fast to loop through all LIST items and compute its square\n",
    "%timeit [i**2 for i in L]"
   ]
  },
  {
   "cell_type": "code",
   "execution_count": 10,
   "metadata": {},
   "outputs": [],
   "source": [
    "#Construct an ARRAY of values from 0 to 999\n",
    "a = np.arange(1000)"
   ]
  },
  {
   "cell_type": "code",
   "execution_count": 11,
   "metadata": {},
   "outputs": [
    {
     "name": "stdout",
     "output_type": "stream",
     "text": [
      "2.03 µs ± 62.3 ns per loop (mean ± std. dev. of 7 runs, 1000000 loops each)\n"
     ]
    }
   ],
   "source": [
    "#How fast to loop through all ARRAY items and compute its square\n",
    "%timeit a**2"
   ]
  },
  {
   "cell_type": "markdown",
   "metadata": {},
   "source": [
    "_Note: it may seem that the NumPy version took longer. However, note how many loops were run: most likely the NumPy version was so fast that `%timeit%` ran more iterations. The key metric is the first one where you should see NumPy is orders of magnitude faster!_"
   ]
  },
  {
   "cell_type": "code",
   "execution_count": null,
   "metadata": {},
   "outputs": [],
   "source": []
  }
 ],
 "metadata": {
  "kernelspec": {
   "display_name": "Python 3",
   "language": "python",
   "name": "python3"
  },
  "language_info": {
   "codemirror_mode": {
    "name": "ipython",
    "version": 3
   },
   "file_extension": ".py",
   "mimetype": "text/x-python",
   "name": "python",
   "nbconvert_exporter": "python",
   "pygments_lexer": "ipython3",
   "version": "3.6.10"
  }
 },
 "nbformat": 4,
 "nbformat_minor": 2
}
