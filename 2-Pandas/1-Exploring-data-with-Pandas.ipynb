{
 "cells": [
  {
   "cell_type": "markdown",
   "metadata": {},
   "source": [
    "## 1-Exploring data with Pandas - Part 1\n",
    "Pandas is an exceptional tool for working with tabular data. Here we review the basics of what a dataframe is, how we get data into a dataframe, and how we can explore those data when in a dataframe format.\n",
    "### Topics\n",
    "1. [Basic form of a dataframe](#1.-The-DataFrame)\n",
    "* [Loading data into a dataframe](#2.-Loading-data-into-a-dataframe)\n",
    "* [Viewing and inspecting data properties](#3.-Viewing-and-inspecting-data-properties)\n",
    "* [Selecting columns](#4.-Selecting-columns)\n",
    "* [Descriptive statistics](#5.-Descriptive-Statistics)\n",
    "* [Some basic plots](#6.-Some-Basic-Plots)"
   ]
  },
  {
   "cell_type": "code",
   "execution_count": 1,
   "metadata": {},
   "outputs": [],
   "source": [
    "#Import the pandas package, conventially imported as \"pd\"\n",
    "import pandas as pd"
   ]
  },
  {
   "cell_type": "markdown",
   "metadata": {},
   "source": [
    "## 1. The DataFrame\n",
    "We'll begin by exploring the key elements of the DataFrame object. Some notions are self evident, i.e., data are stored in rows and columns, much like a spreadsheet. Others are more nuanced: implicit and explicit indices, tables vs. views, and some others.\n",
    "\n",
    "Let's begin examining the components of DataFrames by examining two ways they can be created.  "
   ]
  },
  {
   "cell_type": "markdown",
   "metadata": {},
   "source": [
    "#### DataFrame as a list of lists\n",
    "First, a DataFrame can be considered as a list of lists. Below we see an example where we have 4 sub-lists, each containing 3 items (e.g. the first list [`'Joe'`,`22`,& `True`]). Each of these 4 sub-lists comprises a _row_ in the resulting DataFrame, and each item in a given list becomes a _column_. "
   ]
  },
  {
   "cell_type": "code",
   "execution_count": 2,
   "metadata": {},
   "outputs": [
    {
     "data": {
      "text/plain": [
       "pandas.core.frame.DataFrame"
      ]
     },
     "execution_count": 2,
     "metadata": {},
     "output_type": "execute_result"
    }
   ],
   "source": [
    "#Creating a simple data frame as a list of lists\n",
    "df = pd.DataFrame([['Joe',22,True],\n",
    "                   ['Bob',25,False],\n",
    "                   ['Sue',28,False],\n",
    "                   ['Ken',24,True]],\n",
    "                  index = [10,20,40,30],\n",
    "                  columns = ['Name','Age','IsStudent']\n",
    "                 )\n",
    "#Reveal the type of object created\n",
    "type(df)"
   ]
  },
  {
   "cell_type": "code",
   "execution_count": 3,
   "metadata": {},
   "outputs": [
    {
     "data": {
      "text/html": [
       "<div>\n",
       "<style scoped>\n",
       "    .dataframe tbody tr th:only-of-type {\n",
       "        vertical-align: middle;\n",
       "    }\n",
       "\n",
       "    .dataframe tbody tr th {\n",
       "        vertical-align: top;\n",
       "    }\n",
       "\n",
       "    .dataframe thead th {\n",
       "        text-align: right;\n",
       "    }\n",
       "</style>\n",
       "<table border=\"1\" class=\"dataframe\">\n",
       "  <thead>\n",
       "    <tr style=\"text-align: right;\">\n",
       "      <th></th>\n",
       "      <th>Name</th>\n",
       "      <th>Age</th>\n",
       "      <th>IsStudent</th>\n",
       "    </tr>\n",
       "  </thead>\n",
       "  <tbody>\n",
       "    <tr>\n",
       "      <th>10</th>\n",
       "      <td>Joe</td>\n",
       "      <td>22</td>\n",
       "      <td>True</td>\n",
       "    </tr>\n",
       "    <tr>\n",
       "      <th>20</th>\n",
       "      <td>Bob</td>\n",
       "      <td>25</td>\n",
       "      <td>False</td>\n",
       "    </tr>\n",
       "    <tr>\n",
       "      <th>40</th>\n",
       "      <td>Sue</td>\n",
       "      <td>28</td>\n",
       "      <td>False</td>\n",
       "    </tr>\n",
       "    <tr>\n",
       "      <th>30</th>\n",
       "      <td>Ken</td>\n",
       "      <td>24</td>\n",
       "      <td>True</td>\n",
       "    </tr>\n",
       "  </tbody>\n",
       "</table>\n",
       "</div>"
      ],
      "text/plain": [
       "   Name  Age  IsStudent\n",
       "10  Joe   22       True\n",
       "20  Bob   25      False\n",
       "40  Sue   28      False\n",
       "30  Ken   24       True"
      ]
     },
     "execution_count": 3,
     "metadata": {},
     "output_type": "execute_result"
    }
   ],
   "source": [
    "#Display the resulting data frame\n",
    "df"
   ]
  },
  {
   "cell_type": "markdown",
   "metadata": {},
   "source": [
    "A few key points here: \n",
    "* First is that each of the sub-lists has the same number of elements (3) and the same data types as the other sub-lists. Otherwise we'd end up with missing data or \"coerced\" data types.\n",
    "* Second is that we also explicitly specify and **index** for the rows (`index = [1,2,3,4]`). The index allows us to identify a specific row.\n",
    "* Likewise, we explicitly set column names with `columns = ['Name','Age','IsStudent']`, and yes, these allow us to indentify specific columns in our DataFrame."
   ]
  },
  {
   "cell_type": "markdown",
   "metadata": {},
   "source": [
    "#### Data frame as a collection of dictionaries\n",
    "Another way to build (and think of) a DataFrame as a set of dictionaries where each dictionary is a column of data, with the dictionary's key being the column name and it's value being a list of values:"
   ]
  },
  {
   "cell_type": "code",
   "execution_count": 4,
   "metadata": {},
   "outputs": [
    {
     "data": {
      "text/html": [
       "<div>\n",
       "<style scoped>\n",
       "    .dataframe tbody tr th:only-of-type {\n",
       "        vertical-align: middle;\n",
       "    }\n",
       "\n",
       "    .dataframe tbody tr th {\n",
       "        vertical-align: top;\n",
       "    }\n",
       "\n",
       "    .dataframe thead th {\n",
       "        text-align: right;\n",
       "    }\n",
       "</style>\n",
       "<table border=\"1\" class=\"dataframe\">\n",
       "  <thead>\n",
       "    <tr style=\"text-align: right;\">\n",
       "      <th></th>\n",
       "      <th>Name</th>\n",
       "      <th>Age</th>\n",
       "      <th>IsStudent</th>\n",
       "    </tr>\n",
       "  </thead>\n",
       "  <tbody>\n",
       "    <tr>\n",
       "      <th>10</th>\n",
       "      <td>Joe</td>\n",
       "      <td>22</td>\n",
       "      <td>True</td>\n",
       "    </tr>\n",
       "    <tr>\n",
       "      <th>20</th>\n",
       "      <td>Bob</td>\n",
       "      <td>25</td>\n",
       "      <td>False</td>\n",
       "    </tr>\n",
       "    <tr>\n",
       "      <th>40</th>\n",
       "      <td>Sue</td>\n",
       "      <td>28</td>\n",
       "      <td>False</td>\n",
       "    </tr>\n",
       "    <tr>\n",
       "      <th>30</th>\n",
       "      <td>Ken</td>\n",
       "      <td>24</td>\n",
       "      <td>True</td>\n",
       "    </tr>\n",
       "  </tbody>\n",
       "</table>\n",
       "</div>"
      ],
      "text/plain": [
       "   Name  Age  IsStudent\n",
       "10  Joe   22       True\n",
       "20  Bob   25      False\n",
       "40  Sue   28      False\n",
       "30  Ken   24       True"
      ]
     },
     "execution_count": 4,
     "metadata": {},
     "output_type": "execute_result"
    }
   ],
   "source": [
    "#Creating a data frame as dictionaries of lists\n",
    "df = pd.DataFrame({\"Name\":['Joe','Bob','Sue','Ken'],\n",
    "                   \"Age\":[22,25,28,24],\n",
    "                   \"IsStudent\":[True,False,False,True]},\n",
    "                  index = [10,20,40,30]\n",
    "                 )\n",
    "df"
   ]
  },
  {
   "cell_type": "markdown",
   "metadata": {},
   "source": [
    "### Meh, so what...\n",
    "What does this reveal? List of lists vs set of dictionaries? Well, it explains how you can extract elements from the DataFrame. **Thinking of a DataFrame as a list of lists**, getting the value of the 2nd column, 3rd row is equivalent of getting data from the 2nd item in the 3rd list.  \n",
    "\n",
    "We can get that value using the DataFrame's `iloc` function (short for intrinsic location), passing the row and column of the location we want."
   ]
  },
  {
   "cell_type": "code",
   "execution_count": 5,
   "metadata": {},
   "outputs": [
    {
     "data": {
      "text/plain": [
       "28"
      ]
     },
     "execution_count": 5,
     "metadata": {},
     "output_type": "execute_result"
    }
   ],
   "source": [
    "#Get the 2nd item from the 3rd row; recalling Python is zero-based\n",
    "df.iloc[2,1]"
   ]
  },
  {
   "cell_type": "markdown",
   "metadata": {},
   "source": [
    "And if we hop over to **thinking a DataFrame as a set of dictionaries**, we can target a specific value by specifying the index of the value (row) from the dictionary column) we want. The row however, is referred to by the index *we* assigned, not it's implicit index generated by the order in which it was entered. "
   ]
  },
  {
   "cell_type": "code",
   "execution_count": 6,
   "metadata": {},
   "outputs": [
    {
     "data": {
      "text/plain": [
       "'Bob'"
      ]
     },
     "execution_count": 6,
     "metadata": {},
     "output_type": "execute_result"
    }
   ],
   "source": [
    "#Get the value in the 'Name' column corresponding to the row with an index of '20'\n",
    "df['Name'][20]"
   ]
  },
  {
   "cell_type": "markdown",
   "metadata": {},
   "source": [
    "We can also to quick math on our data. If we wanted to calculate the age of our students in days:"
   ]
  },
  {
   "cell_type": "code",
   "execution_count": 7,
   "metadata": {},
   "outputs": [
    {
     "data": {
      "text/html": [
       "<div>\n",
       "<style scoped>\n",
       "    .dataframe tbody tr th:only-of-type {\n",
       "        vertical-align: middle;\n",
       "    }\n",
       "\n",
       "    .dataframe tbody tr th {\n",
       "        vertical-align: top;\n",
       "    }\n",
       "\n",
       "    .dataframe thead th {\n",
       "        text-align: right;\n",
       "    }\n",
       "</style>\n",
       "<table border=\"1\" class=\"dataframe\">\n",
       "  <thead>\n",
       "    <tr style=\"text-align: right;\">\n",
       "      <th></th>\n",
       "      <th>Name</th>\n",
       "      <th>Age</th>\n",
       "      <th>IsStudent</th>\n",
       "      <th>Age_days</th>\n",
       "    </tr>\n",
       "  </thead>\n",
       "  <tbody>\n",
       "    <tr>\n",
       "      <th>10</th>\n",
       "      <td>Joe</td>\n",
       "      <td>22</td>\n",
       "      <td>True</td>\n",
       "      <td>8030</td>\n",
       "    </tr>\n",
       "    <tr>\n",
       "      <th>20</th>\n",
       "      <td>Bob</td>\n",
       "      <td>25</td>\n",
       "      <td>False</td>\n",
       "      <td>9125</td>\n",
       "    </tr>\n",
       "    <tr>\n",
       "      <th>40</th>\n",
       "      <td>Sue</td>\n",
       "      <td>28</td>\n",
       "      <td>False</td>\n",
       "      <td>10220</td>\n",
       "    </tr>\n",
       "    <tr>\n",
       "      <th>30</th>\n",
       "      <td>Ken</td>\n",
       "      <td>24</td>\n",
       "      <td>True</td>\n",
       "      <td>8760</td>\n",
       "    </tr>\n",
       "  </tbody>\n",
       "</table>\n",
       "</div>"
      ],
      "text/plain": [
       "   Name  Age  IsStudent  Age_days\n",
       "10  Joe   22       True      8030\n",
       "20  Bob   25      False      9125\n",
       "40  Sue   28      False     10220\n",
       "30  Ken   24       True      8760"
      ]
     },
     "execution_count": 7,
     "metadata": {},
     "output_type": "execute_result"
    }
   ],
   "source": [
    "df['Age_days'] = df['Age'] * 365\n",
    "df"
   ]
  },
  {
   "cell_type": "markdown",
   "metadata": {},
   "source": [
    "_We'll return to how we extract data from a DataFrame, but for now just soak in the fact that values in a DataFrame can be referenced by their implicit location (i.e. their row, column coordinates) and by their explicit column name and row index._"
   ]
  },
  {
   "cell_type": "markdown",
   "metadata": {},
   "source": [
    "---\n",
    "## 2. Loading data into a dataframe\n",
    "More than likely we'll be reading in data vs entering it manually, so let's review how files are read into a Pandas Dataframe. Pandas can read many other formats: Excel files, HTML tables, JSON, etc. But let's concentrate on the simplest one - the csv file - and discuss the key parameters involved. \n",
    "\n",
    "In the Data folder within our workspace is a file named `surveys.csv` which holds the data we'll use. If you're curious, this dataset is part of the Portal Teaching data, a subset of the data from Ernst et al [Long-term monitoring and experimental manipulation of a Chihuahuan Desert ecosystem near Portal, Arizona, USA](http://www.esapubs.org/archive/ecol/E090/118/default.htm).\n",
    "\n",
    "The dataset is stored as a `.csv` file: each row holds information for a single animal, and the columns represent:\n",
    "\n",
    "| Column | Description |\n",
    "| :--- | :--- |\n",
    "|record_id |\tUnique id for the observation |\n",
    "|month| \tmonth of observation |\n",
    "|day |\tday of observation |\n",
    "|year |\tyear of observation |\n",
    "|plot_id |\tID of a particular plot |\n",
    "|species_id |\t2-letter code |\n",
    "|sex |\tsex of animal (“M”, “F”) |\n",
    "|hindfoot_length |\tlength of the hindfoot in mm |\n",
    "|weight |\tweight of the animal in grams |"
   ]
  },
  {
   "cell_type": "markdown",
   "metadata": {},
   "source": [
    "Below, we read in this file, saving the contents to the variabel `surveys_df`"
   ]
  },
  {
   "cell_type": "code",
   "execution_count": 8,
   "metadata": {},
   "outputs": [],
   "source": [
    "#Read in the surveys.csv file\n",
    "surveys_df = pd.read_csv('../data/surveys.csv')"
   ]
  },
  {
   "cell_type": "code",
   "execution_count": 9,
   "metadata": {},
   "outputs": [
    {
     "data": {
      "text/html": [
       "<div>\n",
       "<style scoped>\n",
       "    .dataframe tbody tr th:only-of-type {\n",
       "        vertical-align: middle;\n",
       "    }\n",
       "\n",
       "    .dataframe tbody tr th {\n",
       "        vertical-align: top;\n",
       "    }\n",
       "\n",
       "    .dataframe thead th {\n",
       "        text-align: right;\n",
       "    }\n",
       "</style>\n",
       "<table border=\"1\" class=\"dataframe\">\n",
       "  <thead>\n",
       "    <tr style=\"text-align: right;\">\n",
       "      <th></th>\n",
       "      <th>record_id</th>\n",
       "      <th>month</th>\n",
       "      <th>day</th>\n",
       "      <th>year</th>\n",
       "      <th>plot_id</th>\n",
       "      <th>species_id</th>\n",
       "      <th>sex</th>\n",
       "      <th>hindfoot_length</th>\n",
       "      <th>weight</th>\n",
       "    </tr>\n",
       "  </thead>\n",
       "  <tbody>\n",
       "    <tr>\n",
       "      <th>0</th>\n",
       "      <td>1</td>\n",
       "      <td>7</td>\n",
       "      <td>16</td>\n",
       "      <td>1977</td>\n",
       "      <td>2</td>\n",
       "      <td>NL</td>\n",
       "      <td>M</td>\n",
       "      <td>32.0</td>\n",
       "      <td>NaN</td>\n",
       "    </tr>\n",
       "    <tr>\n",
       "      <th>1</th>\n",
       "      <td>2</td>\n",
       "      <td>7</td>\n",
       "      <td>16</td>\n",
       "      <td>1977</td>\n",
       "      <td>3</td>\n",
       "      <td>NL</td>\n",
       "      <td>M</td>\n",
       "      <td>33.0</td>\n",
       "      <td>NaN</td>\n",
       "    </tr>\n",
       "    <tr>\n",
       "      <th>2</th>\n",
       "      <td>3</td>\n",
       "      <td>7</td>\n",
       "      <td>16</td>\n",
       "      <td>1977</td>\n",
       "      <td>2</td>\n",
       "      <td>DM</td>\n",
       "      <td>F</td>\n",
       "      <td>37.0</td>\n",
       "      <td>NaN</td>\n",
       "    </tr>\n",
       "    <tr>\n",
       "      <th>3</th>\n",
       "      <td>4</td>\n",
       "      <td>7</td>\n",
       "      <td>16</td>\n",
       "      <td>1977</td>\n",
       "      <td>7</td>\n",
       "      <td>DM</td>\n",
       "      <td>M</td>\n",
       "      <td>36.0</td>\n",
       "      <td>NaN</td>\n",
       "    </tr>\n",
       "    <tr>\n",
       "      <th>4</th>\n",
       "      <td>5</td>\n",
       "      <td>7</td>\n",
       "      <td>16</td>\n",
       "      <td>1977</td>\n",
       "      <td>3</td>\n",
       "      <td>DM</td>\n",
       "      <td>M</td>\n",
       "      <td>35.0</td>\n",
       "      <td>NaN</td>\n",
       "    </tr>\n",
       "    <tr>\n",
       "      <th>...</th>\n",
       "      <td>...</td>\n",
       "      <td>...</td>\n",
       "      <td>...</td>\n",
       "      <td>...</td>\n",
       "      <td>...</td>\n",
       "      <td>...</td>\n",
       "      <td>...</td>\n",
       "      <td>...</td>\n",
       "      <td>...</td>\n",
       "    </tr>\n",
       "    <tr>\n",
       "      <th>35544</th>\n",
       "      <td>35545</td>\n",
       "      <td>12</td>\n",
       "      <td>31</td>\n",
       "      <td>2002</td>\n",
       "      <td>15</td>\n",
       "      <td>AH</td>\n",
       "      <td>NaN</td>\n",
       "      <td>NaN</td>\n",
       "      <td>NaN</td>\n",
       "    </tr>\n",
       "    <tr>\n",
       "      <th>35545</th>\n",
       "      <td>35546</td>\n",
       "      <td>12</td>\n",
       "      <td>31</td>\n",
       "      <td>2002</td>\n",
       "      <td>15</td>\n",
       "      <td>AH</td>\n",
       "      <td>NaN</td>\n",
       "      <td>NaN</td>\n",
       "      <td>NaN</td>\n",
       "    </tr>\n",
       "    <tr>\n",
       "      <th>35546</th>\n",
       "      <td>35547</td>\n",
       "      <td>12</td>\n",
       "      <td>31</td>\n",
       "      <td>2002</td>\n",
       "      <td>10</td>\n",
       "      <td>RM</td>\n",
       "      <td>F</td>\n",
       "      <td>15.0</td>\n",
       "      <td>14.0</td>\n",
       "    </tr>\n",
       "    <tr>\n",
       "      <th>35547</th>\n",
       "      <td>35548</td>\n",
       "      <td>12</td>\n",
       "      <td>31</td>\n",
       "      <td>2002</td>\n",
       "      <td>7</td>\n",
       "      <td>DO</td>\n",
       "      <td>M</td>\n",
       "      <td>36.0</td>\n",
       "      <td>51.0</td>\n",
       "    </tr>\n",
       "    <tr>\n",
       "      <th>35548</th>\n",
       "      <td>35549</td>\n",
       "      <td>12</td>\n",
       "      <td>31</td>\n",
       "      <td>2002</td>\n",
       "      <td>5</td>\n",
       "      <td>NaN</td>\n",
       "      <td>NaN</td>\n",
       "      <td>NaN</td>\n",
       "      <td>NaN</td>\n",
       "    </tr>\n",
       "  </tbody>\n",
       "</table>\n",
       "<p>35549 rows × 9 columns</p>\n",
       "</div>"
      ],
      "text/plain": [
       "       record_id  month  day  year  plot_id species_id  sex  hindfoot_length  \\\n",
       "0              1      7   16  1977        2         NL    M             32.0   \n",
       "1              2      7   16  1977        3         NL    M             33.0   \n",
       "2              3      7   16  1977        2         DM    F             37.0   \n",
       "3              4      7   16  1977        7         DM    M             36.0   \n",
       "4              5      7   16  1977        3         DM    M             35.0   \n",
       "...          ...    ...  ...   ...      ...        ...  ...              ...   \n",
       "35544      35545     12   31  2002       15         AH  NaN              NaN   \n",
       "35545      35546     12   31  2002       15         AH  NaN              NaN   \n",
       "35546      35547     12   31  2002       10         RM    F             15.0   \n",
       "35547      35548     12   31  2002        7         DO    M             36.0   \n",
       "35548      35549     12   31  2002        5        NaN  NaN              NaN   \n",
       "\n",
       "       weight  \n",
       "0         NaN  \n",
       "1         NaN  \n",
       "2         NaN  \n",
       "3         NaN  \n",
       "4         NaN  \n",
       "...       ...  \n",
       "35544     NaN  \n",
       "35545     NaN  \n",
       "35546    14.0  \n",
       "35547    51.0  \n",
       "35548     NaN  \n",
       "\n",
       "[35549 rows x 9 columns]"
      ]
     },
     "execution_count": 9,
     "metadata": {},
     "output_type": "execute_result"
    }
   ],
   "source": [
    "#View the dataframe just by typing the variable name\n",
    "surveys_df"
   ]
  },
  {
   "cell_type": "markdown",
   "metadata": {},
   "source": [
    "Pandas can read data stored in many different formats. CSV is one of the more common ones, but it can also handle txt, JSON, HTML, MS Excel, HDF5, Stata, SAS, and certain SQL formats. Each has it's own `read_()` function and is fully documented. \n",
    "\n",
    "* Run the following to get documentation for the `read_csv()` function:"
   ]
  },
  {
   "cell_type": "code",
   "execution_count": null,
   "metadata": {},
   "outputs": [],
   "source": [
    "#Display help on the read_csv() function\n",
    "pd.read_csv?"
   ]
  },
  {
   "cell_type": "markdown",
   "metadata": {},
   "source": [
    "Full documentation can be found simply via a web search on \"[pandas read_csv](https://www.google.com/search?q=read_csv)\".\n",
    "\n",
    ">Note all the options available to read in a simple CSV file. Think back to some of the other files we've read into Python using its file object. How might the following options have helped? \n",
    "* `delimeter` or `sep` to read in tab delimeted files...\n",
    "* `comment` to skip metadata rows...\n",
    "* `skiprows` to skip metadata rows...\n",
    "\n",
    "I've never used many of these modifiers, but it's important to know they exist and how they are implemented. I often use a bit of trial and error when first applying them. "
   ]
  },
  {
   "cell_type": "markdown",
   "metadata": {},
   "source": [
    "#### Using the `dtype` modifier \n",
    "One important modifier that is easy to overlook is the `dtype` one. This modifier allows us to override the default data type that Pandas assignes to a column when it's imported into a dataframe. \n",
    "\n",
    "Note that in our `surveys_df` dataframe, we have two numeric columns that contain _nominal_ data: `record_id` and `plot_id`. It's possible these numeric labels may have leading zeros. (Think ZIP codes or HUC codes...). As such, we'd want to be sure to import these values as _strings_, not _integers_ as Pandas would do by default. \n",
    "\n",
    "We do this using the `dtype` modifier, passing a dictionary of column name:format for each variable we want to ensure is imported under our control:"
   ]
  },
  {
   "cell_type": "code",
   "execution_count": 15,
   "metadata": {},
   "outputs": [
    {
     "data": {
      "text/html": [
       "<div>\n",
       "<style scoped>\n",
       "    .dataframe tbody tr th:only-of-type {\n",
       "        vertical-align: middle;\n",
       "    }\n",
       "\n",
       "    .dataframe tbody tr th {\n",
       "        vertical-align: top;\n",
       "    }\n",
       "\n",
       "    .dataframe thead th {\n",
       "        text-align: right;\n",
       "    }\n",
       "</style>\n",
       "<table border=\"1\" class=\"dataframe\">\n",
       "  <thead>\n",
       "    <tr style=\"text-align: right;\">\n",
       "      <th></th>\n",
       "      <th>month</th>\n",
       "      <th>day</th>\n",
       "      <th>year</th>\n",
       "      <th>plot_id</th>\n",
       "      <th>species_id</th>\n",
       "      <th>sex</th>\n",
       "      <th>hindfoot_length</th>\n",
       "      <th>weight</th>\n",
       "    </tr>\n",
       "    <tr>\n",
       "      <th>record_id</th>\n",
       "      <th></th>\n",
       "      <th></th>\n",
       "      <th></th>\n",
       "      <th></th>\n",
       "      <th></th>\n",
       "      <th></th>\n",
       "      <th></th>\n",
       "      <th></th>\n",
       "    </tr>\n",
       "  </thead>\n",
       "  <tbody>\n",
       "    <tr>\n",
       "      <th>1</th>\n",
       "      <td>7</td>\n",
       "      <td>16</td>\n",
       "      <td>1977</td>\n",
       "      <td>2</td>\n",
       "      <td>NL</td>\n",
       "      <td>M</td>\n",
       "      <td>32.0</td>\n",
       "      <td>NaN</td>\n",
       "    </tr>\n",
       "    <tr>\n",
       "      <th>2</th>\n",
       "      <td>7</td>\n",
       "      <td>16</td>\n",
       "      <td>1977</td>\n",
       "      <td>3</td>\n",
       "      <td>NL</td>\n",
       "      <td>M</td>\n",
       "      <td>33.0</td>\n",
       "      <td>NaN</td>\n",
       "    </tr>\n",
       "    <tr>\n",
       "      <th>3</th>\n",
       "      <td>7</td>\n",
       "      <td>16</td>\n",
       "      <td>1977</td>\n",
       "      <td>2</td>\n",
       "      <td>DM</td>\n",
       "      <td>F</td>\n",
       "      <td>37.0</td>\n",
       "      <td>NaN</td>\n",
       "    </tr>\n",
       "    <tr>\n",
       "      <th>4</th>\n",
       "      <td>7</td>\n",
       "      <td>16</td>\n",
       "      <td>1977</td>\n",
       "      <td>7</td>\n",
       "      <td>DM</td>\n",
       "      <td>M</td>\n",
       "      <td>36.0</td>\n",
       "      <td>NaN</td>\n",
       "    </tr>\n",
       "    <tr>\n",
       "      <th>5</th>\n",
       "      <td>7</td>\n",
       "      <td>16</td>\n",
       "      <td>1977</td>\n",
       "      <td>3</td>\n",
       "      <td>DM</td>\n",
       "      <td>M</td>\n",
       "      <td>35.0</td>\n",
       "      <td>NaN</td>\n",
       "    </tr>\n",
       "    <tr>\n",
       "      <th>...</th>\n",
       "      <td>...</td>\n",
       "      <td>...</td>\n",
       "      <td>...</td>\n",
       "      <td>...</td>\n",
       "      <td>...</td>\n",
       "      <td>...</td>\n",
       "      <td>...</td>\n",
       "      <td>...</td>\n",
       "    </tr>\n",
       "    <tr>\n",
       "      <th>35545</th>\n",
       "      <td>12</td>\n",
       "      <td>31</td>\n",
       "      <td>2002</td>\n",
       "      <td>15</td>\n",
       "      <td>AH</td>\n",
       "      <td>NaN</td>\n",
       "      <td>NaN</td>\n",
       "      <td>NaN</td>\n",
       "    </tr>\n",
       "    <tr>\n",
       "      <th>35546</th>\n",
       "      <td>12</td>\n",
       "      <td>31</td>\n",
       "      <td>2002</td>\n",
       "      <td>15</td>\n",
       "      <td>AH</td>\n",
       "      <td>NaN</td>\n",
       "      <td>NaN</td>\n",
       "      <td>NaN</td>\n",
       "    </tr>\n",
       "    <tr>\n",
       "      <th>35547</th>\n",
       "      <td>12</td>\n",
       "      <td>31</td>\n",
       "      <td>2002</td>\n",
       "      <td>10</td>\n",
       "      <td>RM</td>\n",
       "      <td>F</td>\n",
       "      <td>15.0</td>\n",
       "      <td>14.0</td>\n",
       "    </tr>\n",
       "    <tr>\n",
       "      <th>35548</th>\n",
       "      <td>12</td>\n",
       "      <td>31</td>\n",
       "      <td>2002</td>\n",
       "      <td>7</td>\n",
       "      <td>DO</td>\n",
       "      <td>M</td>\n",
       "      <td>36.0</td>\n",
       "      <td>51.0</td>\n",
       "    </tr>\n",
       "    <tr>\n",
       "      <th>35549</th>\n",
       "      <td>12</td>\n",
       "      <td>31</td>\n",
       "      <td>2002</td>\n",
       "      <td>5</td>\n",
       "      <td>NaN</td>\n",
       "      <td>NaN</td>\n",
       "      <td>NaN</td>\n",
       "      <td>NaN</td>\n",
       "    </tr>\n",
       "  </tbody>\n",
       "</table>\n",
       "<p>35549 rows × 8 columns</p>\n",
       "</div>"
      ],
      "text/plain": [
       "           month  day  year plot_id species_id  sex  hindfoot_length  weight\n",
       "record_id                                                                   \n",
       "1              7   16  1977       2         NL    M             32.0     NaN\n",
       "2              7   16  1977       3         NL    M             33.0     NaN\n",
       "3              7   16  1977       2         DM    F             37.0     NaN\n",
       "4              7   16  1977       7         DM    M             36.0     NaN\n",
       "5              7   16  1977       3         DM    M             35.0     NaN\n",
       "...          ...  ...   ...     ...        ...  ...              ...     ...\n",
       "35545         12   31  2002      15         AH  NaN              NaN     NaN\n",
       "35546         12   31  2002      15         AH  NaN              NaN     NaN\n",
       "35547         12   31  2002      10         RM    F             15.0    14.0\n",
       "35548         12   31  2002       7         DO    M             36.0    51.0\n",
       "35549         12   31  2002       5        NaN  NaN              NaN     NaN\n",
       "\n",
       "[35549 rows x 8 columns]"
      ]
     },
     "execution_count": 15,
     "metadata": {},
     "output_type": "execute_result"
    }
   ],
   "source": [
    "#Read in the surveys.csv file\n",
    "surveys_df = pd.read_csv('../data/surveys.csv',\n",
    "                         index_col = 'record_id',\n",
    "                         dtype={'plot_id':'str'})\n",
    "surveys_df"
   ]
  },
  {
   "cell_type": "code",
   "execution_count": 11,
   "metadata": {
    "scrolled": true
   },
   "outputs": [
    {
     "data": {
      "text/plain": [
       "record_id           object\n",
       "month                int64\n",
       "day                  int64\n",
       "year                 int64\n",
       "plot_id             object\n",
       "species_id          object\n",
       "sex                 object\n",
       "hindfoot_length    float64\n",
       "weight             float64\n",
       "dtype: object"
      ]
     },
     "execution_count": 11,
     "metadata": {},
     "output_type": "execute_result"
    }
   ],
   "source": [
    "surveys_df.dtypes"
   ]
  },
  {
   "cell_type": "markdown",
   "metadata": {},
   "source": [
    "---\n",
    "## 3. Viewing and inspecting data properties\n",
    "We've already seen that typing in the dataframe's variable name will display a nicely formatted snapshot of the data, truncated if the dataframe is too big. \n",
    "\n",
    "### Viewing data with `head()`, `tail()`, and `sample()`\n",
    "Some handy commands to show snippets of our dataframe are `head()`, `tail()`, and `sample()`. We can pass in a number as the argument to each of these to display a set number of records from our dataset. (`head()` and `tail()` default to 5.)"
   ]
  },
  {
   "cell_type": "code",
   "execution_count": 16,
   "metadata": {},
   "outputs": [
    {
     "data": {
      "text/html": [
       "<div>\n",
       "<style scoped>\n",
       "    .dataframe tbody tr th:only-of-type {\n",
       "        vertical-align: middle;\n",
       "    }\n",
       "\n",
       "    .dataframe tbody tr th {\n",
       "        vertical-align: top;\n",
       "    }\n",
       "\n",
       "    .dataframe thead th {\n",
       "        text-align: right;\n",
       "    }\n",
       "</style>\n",
       "<table border=\"1\" class=\"dataframe\">\n",
       "  <thead>\n",
       "    <tr style=\"text-align: right;\">\n",
       "      <th></th>\n",
       "      <th>month</th>\n",
       "      <th>day</th>\n",
       "      <th>year</th>\n",
       "      <th>plot_id</th>\n",
       "      <th>species_id</th>\n",
       "      <th>sex</th>\n",
       "      <th>hindfoot_length</th>\n",
       "      <th>weight</th>\n",
       "    </tr>\n",
       "    <tr>\n",
       "      <th>record_id</th>\n",
       "      <th></th>\n",
       "      <th></th>\n",
       "      <th></th>\n",
       "      <th></th>\n",
       "      <th></th>\n",
       "      <th></th>\n",
       "      <th></th>\n",
       "      <th></th>\n",
       "    </tr>\n",
       "  </thead>\n",
       "  <tbody>\n",
       "    <tr>\n",
       "      <th>1</th>\n",
       "      <td>7</td>\n",
       "      <td>16</td>\n",
       "      <td>1977</td>\n",
       "      <td>2</td>\n",
       "      <td>NL</td>\n",
       "      <td>M</td>\n",
       "      <td>32.0</td>\n",
       "      <td>NaN</td>\n",
       "    </tr>\n",
       "    <tr>\n",
       "      <th>2</th>\n",
       "      <td>7</td>\n",
       "      <td>16</td>\n",
       "      <td>1977</td>\n",
       "      <td>3</td>\n",
       "      <td>NL</td>\n",
       "      <td>M</td>\n",
       "      <td>33.0</td>\n",
       "      <td>NaN</td>\n",
       "    </tr>\n",
       "    <tr>\n",
       "      <th>3</th>\n",
       "      <td>7</td>\n",
       "      <td>16</td>\n",
       "      <td>1977</td>\n",
       "      <td>2</td>\n",
       "      <td>DM</td>\n",
       "      <td>F</td>\n",
       "      <td>37.0</td>\n",
       "      <td>NaN</td>\n",
       "    </tr>\n",
       "    <tr>\n",
       "      <th>4</th>\n",
       "      <td>7</td>\n",
       "      <td>16</td>\n",
       "      <td>1977</td>\n",
       "      <td>7</td>\n",
       "      <td>DM</td>\n",
       "      <td>M</td>\n",
       "      <td>36.0</td>\n",
       "      <td>NaN</td>\n",
       "    </tr>\n",
       "    <tr>\n",
       "      <th>5</th>\n",
       "      <td>7</td>\n",
       "      <td>16</td>\n",
       "      <td>1977</td>\n",
       "      <td>3</td>\n",
       "      <td>DM</td>\n",
       "      <td>M</td>\n",
       "      <td>35.0</td>\n",
       "      <td>NaN</td>\n",
       "    </tr>\n",
       "  </tbody>\n",
       "</table>\n",
       "</div>"
      ],
      "text/plain": [
       "           month  day  year plot_id species_id sex  hindfoot_length  weight\n",
       "record_id                                                                  \n",
       "1              7   16  1977       2         NL   M             32.0     NaN\n",
       "2              7   16  1977       3         NL   M             33.0     NaN\n",
       "3              7   16  1977       2         DM   F             37.0     NaN\n",
       "4              7   16  1977       7         DM   M             36.0     NaN\n",
       "5              7   16  1977       3         DM   M             35.0     NaN"
      ]
     },
     "execution_count": 16,
     "metadata": {},
     "output_type": "execute_result"
    }
   ],
   "source": [
    "#Use the head() command to view the first 5 rows of the dataframe\n",
    "surveys_df.head()"
   ]
  },
  {
   "cell_type": "markdown",
   "metadata": {},
   "source": [
    "► What do you think the sample function does? What about sample? How might you find out?"
   ]
  },
  {
   "cell_type": "code",
   "execution_count": 17,
   "metadata": {},
   "outputs": [
    {
     "data": {
      "text/html": [
       "<div>\n",
       "<style scoped>\n",
       "    .dataframe tbody tr th:only-of-type {\n",
       "        vertical-align: middle;\n",
       "    }\n",
       "\n",
       "    .dataframe tbody tr th {\n",
       "        vertical-align: top;\n",
       "    }\n",
       "\n",
       "    .dataframe thead th {\n",
       "        text-align: right;\n",
       "    }\n",
       "</style>\n",
       "<table border=\"1\" class=\"dataframe\">\n",
       "  <thead>\n",
       "    <tr style=\"text-align: right;\">\n",
       "      <th></th>\n",
       "      <th>month</th>\n",
       "      <th>day</th>\n",
       "      <th>year</th>\n",
       "      <th>plot_id</th>\n",
       "      <th>species_id</th>\n",
       "      <th>sex</th>\n",
       "      <th>hindfoot_length</th>\n",
       "      <th>weight</th>\n",
       "    </tr>\n",
       "    <tr>\n",
       "      <th>record_id</th>\n",
       "      <th></th>\n",
       "      <th></th>\n",
       "      <th></th>\n",
       "      <th></th>\n",
       "      <th></th>\n",
       "      <th></th>\n",
       "      <th></th>\n",
       "      <th></th>\n",
       "    </tr>\n",
       "  </thead>\n",
       "  <tbody>\n",
       "    <tr>\n",
       "      <th>35545</th>\n",
       "      <td>12</td>\n",
       "      <td>31</td>\n",
       "      <td>2002</td>\n",
       "      <td>15</td>\n",
       "      <td>AH</td>\n",
       "      <td>NaN</td>\n",
       "      <td>NaN</td>\n",
       "      <td>NaN</td>\n",
       "    </tr>\n",
       "    <tr>\n",
       "      <th>35546</th>\n",
       "      <td>12</td>\n",
       "      <td>31</td>\n",
       "      <td>2002</td>\n",
       "      <td>15</td>\n",
       "      <td>AH</td>\n",
       "      <td>NaN</td>\n",
       "      <td>NaN</td>\n",
       "      <td>NaN</td>\n",
       "    </tr>\n",
       "    <tr>\n",
       "      <th>35547</th>\n",
       "      <td>12</td>\n",
       "      <td>31</td>\n",
       "      <td>2002</td>\n",
       "      <td>10</td>\n",
       "      <td>RM</td>\n",
       "      <td>F</td>\n",
       "      <td>15.0</td>\n",
       "      <td>14.0</td>\n",
       "    </tr>\n",
       "    <tr>\n",
       "      <th>35548</th>\n",
       "      <td>12</td>\n",
       "      <td>31</td>\n",
       "      <td>2002</td>\n",
       "      <td>7</td>\n",
       "      <td>DO</td>\n",
       "      <td>M</td>\n",
       "      <td>36.0</td>\n",
       "      <td>51.0</td>\n",
       "    </tr>\n",
       "    <tr>\n",
       "      <th>35549</th>\n",
       "      <td>12</td>\n",
       "      <td>31</td>\n",
       "      <td>2002</td>\n",
       "      <td>5</td>\n",
       "      <td>NaN</td>\n",
       "      <td>NaN</td>\n",
       "      <td>NaN</td>\n",
       "      <td>NaN</td>\n",
       "    </tr>\n",
       "  </tbody>\n",
       "</table>\n",
       "</div>"
      ],
      "text/plain": [
       "           month  day  year plot_id species_id  sex  hindfoot_length  weight\n",
       "record_id                                                                   \n",
       "35545         12   31  2002      15         AH  NaN              NaN     NaN\n",
       "35546         12   31  2002      15         AH  NaN              NaN     NaN\n",
       "35547         12   31  2002      10         RM    F             15.0    14.0\n",
       "35548         12   31  2002       7         DO    M             36.0    51.0\n",
       "35549         12   31  2002       5        NaN  NaN              NaN     NaN"
      ]
     },
     "execution_count": 17,
     "metadata": {},
     "output_type": "execute_result"
    }
   ],
   "source": [
    "#Try out the tail command\n",
    "surveys_df.tail()"
   ]
  },
  {
   "cell_type": "code",
   "execution_count": 14,
   "metadata": {},
   "outputs": [
    {
     "data": {
      "text/html": [
       "<div>\n",
       "<style scoped>\n",
       "    .dataframe tbody tr th:only-of-type {\n",
       "        vertical-align: middle;\n",
       "    }\n",
       "\n",
       "    .dataframe tbody tr th {\n",
       "        vertical-align: top;\n",
       "    }\n",
       "\n",
       "    .dataframe thead th {\n",
       "        text-align: right;\n",
       "    }\n",
       "</style>\n",
       "<table border=\"1\" class=\"dataframe\">\n",
       "  <thead>\n",
       "    <tr style=\"text-align: right;\">\n",
       "      <th></th>\n",
       "      <th>record_id</th>\n",
       "      <th>month</th>\n",
       "      <th>day</th>\n",
       "      <th>year</th>\n",
       "      <th>plot_id</th>\n",
       "      <th>species_id</th>\n",
       "      <th>sex</th>\n",
       "      <th>hindfoot_length</th>\n",
       "      <th>weight</th>\n",
       "    </tr>\n",
       "  </thead>\n",
       "  <tbody>\n",
       "    <tr>\n",
       "      <th>4888</th>\n",
       "      <td>4889</td>\n",
       "      <td>10</td>\n",
       "      <td>24</td>\n",
       "      <td>1981</td>\n",
       "      <td>20</td>\n",
       "      <td>OL</td>\n",
       "      <td>M</td>\n",
       "      <td>21.0</td>\n",
       "      <td>26.0</td>\n",
       "    </tr>\n",
       "    <tr>\n",
       "      <th>7927</th>\n",
       "      <td>7928</td>\n",
       "      <td>5</td>\n",
       "      <td>15</td>\n",
       "      <td>1983</td>\n",
       "      <td>1</td>\n",
       "      <td>OT</td>\n",
       "      <td>F</td>\n",
       "      <td>19.0</td>\n",
       "      <td>14.0</td>\n",
       "    </tr>\n",
       "    <tr>\n",
       "      <th>33574</th>\n",
       "      <td>33575</td>\n",
       "      <td>3</td>\n",
       "      <td>13</td>\n",
       "      <td>2002</td>\n",
       "      <td>1</td>\n",
       "      <td>DO</td>\n",
       "      <td>F</td>\n",
       "      <td>35.0</td>\n",
       "      <td>46.0</td>\n",
       "    </tr>\n",
       "    <tr>\n",
       "      <th>23325</th>\n",
       "      <td>23326</td>\n",
       "      <td>1</td>\n",
       "      <td>28</td>\n",
       "      <td>1996</td>\n",
       "      <td>5</td>\n",
       "      <td>PP</td>\n",
       "      <td>M</td>\n",
       "      <td>23.0</td>\n",
       "      <td>15.0</td>\n",
       "    </tr>\n",
       "    <tr>\n",
       "      <th>7667</th>\n",
       "      <td>7668</td>\n",
       "      <td>4</td>\n",
       "      <td>16</td>\n",
       "      <td>1983</td>\n",
       "      <td>14</td>\n",
       "      <td>DS</td>\n",
       "      <td>M</td>\n",
       "      <td>49.0</td>\n",
       "      <td>120.0</td>\n",
       "    </tr>\n",
       "    <tr>\n",
       "      <th>11939</th>\n",
       "      <td>11940</td>\n",
       "      <td>10</td>\n",
       "      <td>5</td>\n",
       "      <td>1986</td>\n",
       "      <td>8</td>\n",
       "      <td>DO</td>\n",
       "      <td>F</td>\n",
       "      <td>34.0</td>\n",
       "      <td>49.0</td>\n",
       "    </tr>\n",
       "  </tbody>\n",
       "</table>\n",
       "</div>"
      ],
      "text/plain": [
       "      record_id  month  day  year plot_id species_id sex  hindfoot_length  \\\n",
       "4888       4889     10   24  1981      20         OL   M             21.0   \n",
       "7927       7928      5   15  1983       1         OT   F             19.0   \n",
       "33574     33575      3   13  2002       1         DO   F             35.0   \n",
       "23325     23326      1   28  1996       5         PP   M             23.0   \n",
       "7667       7668      4   16  1983      14         DS   M             49.0   \n",
       "11939     11940     10    5  1986       8         DO   F             34.0   \n",
       "\n",
       "       weight  \n",
       "4888     26.0  \n",
       "7927     14.0  \n",
       "33574    46.0  \n",
       "23325    15.0  \n",
       "7667    120.0  \n",
       "11939    49.0  "
      ]
     },
     "execution_count": 14,
     "metadata": {},
     "output_type": "execute_result"
    }
   ],
   "source": [
    "#Try out the sample command (you need to specifiy number of records)\n",
    "surveys_df.sample(6)"
   ]
  },
  {
   "cell_type": "markdown",
   "metadata": {},
   "source": [
    "### Inpsecting our dataframe's properties\n",
    "Here, we'll create a second dataframe by reading in a dataset stored online. And then we'll apply the following commands to explore properties of this dataset:\n",
    "* Revealing size attributes with `len()`, `shape`, and `size`\n",
    "* Revealing columns included with `columns`\n",
    "* Revealing the index with `index`\n",
    "* Revealing the dataframe's data types with `dtypes` and `info()`"
   ]
  },
  {
   "cell_type": "code",
   "execution_count": 18,
   "metadata": {},
   "outputs": [
    {
     "data": {
      "text/html": [
       "<div>\n",
       "<style scoped>\n",
       "    .dataframe tbody tr th:only-of-type {\n",
       "        vertical-align: middle;\n",
       "    }\n",
       "\n",
       "    .dataframe tbody tr th {\n",
       "        vertical-align: top;\n",
       "    }\n",
       "\n",
       "    .dataframe thead th {\n",
       "        text-align: right;\n",
       "    }\n",
       "</style>\n",
       "<table border=\"1\" class=\"dataframe\">\n",
       "  <thead>\n",
       "    <tr style=\"text-align: right;\">\n",
       "      <th></th>\n",
       "      <th>HUC_12</th>\n",
       "      <th>N_INDEX</th>\n",
       "      <th>PFOR</th>\n",
       "      <th>PWETL</th>\n",
       "      <th>PDEV</th>\n",
       "      <th>PAGT</th>\n",
       "      <th>PAGP</th>\n",
       "      <th>PAGC</th>\n",
       "      <th>PFOR90</th>\n",
       "      <th>PWETL95</th>\n",
       "    </tr>\n",
       "  </thead>\n",
       "  <tbody>\n",
       "    <tr>\n",
       "      <th>0</th>\n",
       "      <td>10100020101</td>\n",
       "      <td>100.0</td>\n",
       "      <td>81.643204</td>\n",
       "      <td>11.39250</td>\n",
       "      <td>0.0</td>\n",
       "      <td>0.0</td>\n",
       "      <td>0.0</td>\n",
       "      <td>0.0</td>\n",
       "      <td>92.245598</td>\n",
       "      <td>0.789988</td>\n",
       "    </tr>\n",
       "    <tr>\n",
       "      <th>1</th>\n",
       "      <td>10100020102</td>\n",
       "      <td>100.0</td>\n",
       "      <td>74.108200</td>\n",
       "      <td>12.30050</td>\n",
       "      <td>0.0</td>\n",
       "      <td>0.0</td>\n",
       "      <td>0.0</td>\n",
       "      <td>0.0</td>\n",
       "      <td>86.143501</td>\n",
       "      <td>0.265201</td>\n",
       "    </tr>\n",
       "    <tr>\n",
       "      <th>2</th>\n",
       "      <td>10100020103</td>\n",
       "      <td>100.0</td>\n",
       "      <td>78.816101</td>\n",
       "      <td>13.67510</td>\n",
       "      <td>0.0</td>\n",
       "      <td>0.0</td>\n",
       "      <td>0.0</td>\n",
       "      <td>0.0</td>\n",
       "      <td>92.095398</td>\n",
       "      <td>0.395778</td>\n",
       "    </tr>\n",
       "    <tr>\n",
       "      <th>3</th>\n",
       "      <td>10100020104</td>\n",
       "      <td>100.0</td>\n",
       "      <td>72.776901</td>\n",
       "      <td>7.57982</td>\n",
       "      <td>0.0</td>\n",
       "      <td>0.0</td>\n",
       "      <td>0.0</td>\n",
       "      <td>0.0</td>\n",
       "      <td>80.097702</td>\n",
       "      <td>0.259059</td>\n",
       "    </tr>\n",
       "    <tr>\n",
       "      <th>4</th>\n",
       "      <td>10100020105</td>\n",
       "      <td>100.0</td>\n",
       "      <td>74.281403</td>\n",
       "      <td>13.11650</td>\n",
       "      <td>0.0</td>\n",
       "      <td>0.0</td>\n",
       "      <td>0.0</td>\n",
       "      <td>0.0</td>\n",
       "      <td>81.182098</td>\n",
       "      <td>6.215810</td>\n",
       "    </tr>\n",
       "  </tbody>\n",
       "</table>\n",
       "</div>"
      ],
      "text/plain": [
       "        HUC_12  N_INDEX       PFOR     PWETL  PDEV  PAGT  PAGP  PAGC  \\\n",
       "0  10100020101    100.0  81.643204  11.39250   0.0   0.0   0.0   0.0   \n",
       "1  10100020102    100.0  74.108200  12.30050   0.0   0.0   0.0   0.0   \n",
       "2  10100020103    100.0  78.816101  13.67510   0.0   0.0   0.0   0.0   \n",
       "3  10100020104    100.0  72.776901   7.57982   0.0   0.0   0.0   0.0   \n",
       "4  10100020105    100.0  74.281403  13.11650   0.0   0.0   0.0   0.0   \n",
       "\n",
       "      PFOR90   PWETL95  \n",
       "0  92.245598  0.789988  \n",
       "1  86.143501  0.265201  \n",
       "2  92.095398  0.395778  \n",
       "3  80.097702  0.259059  \n",
       "4  81.182098  6.215810  "
      ]
     },
     "execution_count": 18,
     "metadata": {},
     "output_type": "execute_result"
    }
   ],
   "source": [
    "#Read in HUC12 land cover data from EPA's EnviroAtlas dataset\n",
    "data_url = 'https://github.com/ENV859/EnviroAtlasData/blob/main/LandCover.csv?raw=true'\n",
    "land_df = pd.read_csv(data_url)\n",
    "land_df.head()"
   ]
  },
  {
   "cell_type": "code",
   "execution_count": 19,
   "metadata": {},
   "outputs": [
    {
     "data": {
      "text/plain": [
       "82915"
      ]
     },
     "execution_count": 19,
     "metadata": {},
     "output_type": "execute_result"
    }
   ],
   "source": [
    "#Pass our dataframe into the len() function\n",
    "len(land_df)"
   ]
  },
  {
   "cell_type": "code",
   "execution_count": 20,
   "metadata": {},
   "outputs": [
    {
     "data": {
      "text/plain": [
       "(82915, 10)"
      ]
     },
     "execution_count": 20,
     "metadata": {},
     "output_type": "execute_result"
    }
   ],
   "source": [
    "#Reveal the shape of the dataframe\n",
    "land_df.shape"
   ]
  },
  {
   "cell_type": "code",
   "execution_count": 21,
   "metadata": {},
   "outputs": [
    {
     "data": {
      "text/plain": [
       "829150"
      ]
     },
     "execution_count": 21,
     "metadata": {},
     "output_type": "execute_result"
    }
   ],
   "source": [
    "#Reveal the size of the dataframe\n",
    "land_df.size"
   ]
  },
  {
   "cell_type": "markdown",
   "metadata": {},
   "source": [
    "► Can you deduce what properties the `len()`, `shape`, and `size` reveal? \n",
    "* How many rows does the dataframe have?\n",
    "* How many columns?\n",
    "* How many total values are in this table? "
   ]
  },
  {
   "cell_type": "code",
   "execution_count": 22,
   "metadata": {},
   "outputs": [
    {
     "data": {
      "text/plain": [
       "array(['HUC_12', 'N_INDEX', 'PFOR', 'PWETL', 'PDEV', 'PAGT', 'PAGP',\n",
       "       'PAGC', 'PFOR90', 'PWETL95'], dtype=object)"
      ]
     },
     "execution_count": 22,
     "metadata": {},
     "output_type": "execute_result"
    }
   ],
   "source": [
    "#Show a list of columns in the dataframe\n",
    "land_df.columns.values"
   ]
  },
  {
   "cell_type": "code",
   "execution_count": 23,
   "metadata": {},
   "outputs": [
    {
     "data": {
      "text/plain": [
       "RangeIndex(start=0, stop=82915, step=1)"
      ]
     },
     "execution_count": 23,
     "metadata": {},
     "output_type": "execute_result"
    }
   ],
   "source": [
    "#Show the dataframe's index\n",
    "land_df.index"
   ]
  },
  {
   "cell_type": "code",
   "execution_count": 24,
   "metadata": {},
   "outputs": [
    {
     "data": {
      "text/plain": [
       "HUC_12       int64\n",
       "N_INDEX    float64\n",
       "PFOR       float64\n",
       "PWETL      float64\n",
       "PDEV       float64\n",
       "PAGT       float64\n",
       "PAGP       float64\n",
       "PAGC       float64\n",
       "PFOR90     float64\n",
       "PWETL95    float64\n",
       "dtype: object"
      ]
     },
     "execution_count": 24,
     "metadata": {},
     "output_type": "execute_result"
    }
   ],
   "source": [
    "#Show the data types of each column \n",
    "land_df.dtypes"
   ]
  },
  {
   "cell_type": "code",
   "execution_count": 25,
   "metadata": {},
   "outputs": [
    {
     "name": "stdout",
     "output_type": "stream",
     "text": [
      "<class 'pandas.core.frame.DataFrame'>\n",
      "RangeIndex: 82915 entries, 0 to 82914\n",
      "Data columns (total 10 columns):\n",
      " #   Column   Non-Null Count  Dtype  \n",
      "---  ------   --------------  -----  \n",
      " 0   HUC_12   82915 non-null  int64  \n",
      " 1   N_INDEX  82915 non-null  float64\n",
      " 2   PFOR     82915 non-null  float64\n",
      " 3   PWETL    82915 non-null  float64\n",
      " 4   PDEV     82915 non-null  float64\n",
      " 5   PAGT     82915 non-null  float64\n",
      " 6   PAGP     82915 non-null  float64\n",
      " 7   PAGC     82915 non-null  float64\n",
      " 8   PFOR90   82915 non-null  float64\n",
      " 9   PWETL95  82915 non-null  float64\n",
      "dtypes: float64(9), int64(1)\n",
      "memory usage: 6.3 MB\n"
     ]
    }
   ],
   "source": [
    "#Show more information on the dataframe and on each column\n",
    "land_df.info()"
   ]
  },
  {
   "cell_type": "markdown",
   "metadata": {},
   "source": [
    "---\n",
    "## Check your understanding:\n",
    "1. Using the commands describe above, answer the following questions regarding the **surveys_df** dataframe.\n",
    " 1. How many records (rows) are in the dataset?\n",
    " * How many columns are in the dataset?\n",
    " * What are the column names?\n",
    " * What data type do the columns use?\n",
    " * How many total values are stored in this dataframe?\n",
    " * What are the indices used in this dataframe?\n",
    " * How many non-null values are found in the 'WEIGHT column  "
   ]
  },
  {
   "cell_type": "code",
   "execution_count": 26,
   "metadata": {},
   "outputs": [
    {
     "data": {
      "text/plain": [
       "284392"
      ]
     },
     "execution_count": 26,
     "metadata": {},
     "output_type": "execute_result"
    }
   ],
   "source": [
    "# How many records (rows) are in the dataset?\n",
    "surveys_df.size"
   ]
  },
  {
   "cell_type": "code",
   "execution_count": 27,
   "metadata": {},
   "outputs": [
    {
     "data": {
      "text/plain": [
       "8"
      ]
     },
     "execution_count": 27,
     "metadata": {},
     "output_type": "execute_result"
    }
   ],
   "source": [
    "# How many columns are in the dataset?\n",
    "surveys_df.columns.size"
   ]
  },
  {
   "cell_type": "code",
   "execution_count": 28,
   "metadata": {},
   "outputs": [
    {
     "data": {
      "text/plain": [
       "array(['month', 'day', 'year', 'plot_id', 'species_id', 'sex',\n",
       "       'hindfoot_length', 'weight'], dtype=object)"
      ]
     },
     "execution_count": 28,
     "metadata": {},
     "output_type": "execute_result"
    }
   ],
   "source": [
    "# What are the column names?\n",
    "surveys_df.columns.values"
   ]
  },
  {
   "cell_type": "code",
   "execution_count": 32,
   "metadata": {},
   "outputs": [
    {
     "data": {
      "text/plain": [
       "month                int64\n",
       "day                  int64\n",
       "year                 int64\n",
       "plot_id             object\n",
       "species_id          object\n",
       "sex                 object\n",
       "hindfoot_length    float64\n",
       "weight             float64\n",
       "dtype: object"
      ]
     },
     "execution_count": 32,
     "metadata": {},
     "output_type": "execute_result"
    }
   ],
   "source": [
    "# What data type do the columns use?\n",
    "surveys_df.dtypes"
   ]
  },
  {
   "cell_type": "code",
   "execution_count": null,
   "metadata": {},
   "outputs": [],
   "source": [
    "# How many total values are stored in this dataframe?\n",
    "surveys_df.shape"
   ]
  },
  {
   "cell_type": "code",
   "execution_count": null,
   "metadata": {},
   "outputs": [],
   "source": [
    "# What are the indices used in this dataframe?\n",
    "surveys_df.index"
   ]
  },
  {
   "cell_type": "code",
   "execution_count": 37,
   "metadata": {},
   "outputs": [
    {
     "name": "stdout",
     "output_type": "stream",
     "text": [
      "<class 'pandas.core.frame.DataFrame'>\n",
      "Int64Index: 35549 entries, 1 to 35549\n",
      "Data columns (total 8 columns):\n",
      " #   Column           Non-Null Count  Dtype  \n",
      "---  ------           --------------  -----  \n",
      " 0   month            35549 non-null  int64  \n",
      " 1   day              35549 non-null  int64  \n",
      " 2   year             35549 non-null  int64  \n",
      " 3   plot_id          35549 non-null  object \n",
      " 4   species_id       34786 non-null  object \n",
      " 5   sex              33038 non-null  object \n",
      " 6   hindfoot_length  31438 non-null  float64\n",
      " 7   weight           32283 non-null  float64\n",
      "dtypes: float64(2), int64(3), object(3)\n",
      "memory usage: 2.4+ MB\n"
     ]
    }
   ],
   "source": [
    "# How many non-null values are found in the 'WEIGHT column\n",
    "surveys_df.info()"
   ]
  },
  {
   "cell_type": "markdown",
   "metadata": {},
   "source": [
    "2. Re-read EnviroAtlas data into the **land_df** dataframe, but this time ensure the `HUC_12` column is read as a **string**, not as an **integer (int64)**.\n",
    " * Ensure that the data type of the column was read in as an \"object\" (i.e. a string) not \"int64\"."
   ]
  },
  {
   "cell_type": "code",
   "execution_count": 38,
   "metadata": {},
   "outputs": [],
   "source": [
    "# Re-read EnviroAtlas data into the land_df dataframe, ensuring HUC_12 is a string\n",
    "data_url = 'https://github.com/ENV859/EnviroAtlasData/blob/main/LandCover.csv?raw=true'\n",
    "land_df = pd.read_csv(data_url,\n",
    "                      dtype={'HUC_12':'str'}) #<-- Modify this line"
   ]
  },
  {
   "cell_type": "code",
   "execution_count": 39,
   "metadata": {},
   "outputs": [
    {
     "data": {
      "text/plain": [
       "HUC_12      object\n",
       "N_INDEX    float64\n",
       "PFOR       float64\n",
       "PWETL      float64\n",
       "PDEV       float64\n",
       "PAGT       float64\n",
       "PAGP       float64\n",
       "PAGC       float64\n",
       "PFOR90     float64\n",
       "PWETL95    float64\n",
       "dtype: object"
      ]
     },
     "execution_count": 39,
     "metadata": {},
     "output_type": "execute_result"
    }
   ],
   "source": [
    "# Ensure that the data type of the column was read in as an \"object\" (i.e. a string) not \"int64\"\n",
    "land_df.dtypes"
   ]
  },
  {
   "cell_type": "markdown",
   "metadata": {},
   "source": [
    "---\n",
    "## 4. Selecting columns\n",
    "We can select specific columns based on the column names. The basic syntax is dataframe[column name], where value can be a single column name, or a _list_ of column names. Let’s start by selecting two columns from our `surveys_df` dataframe, `species_id` and `hindfoot_length`:"
   ]
  },
  {
   "cell_type": "code",
   "execution_count": 40,
   "metadata": {},
   "outputs": [
    {
     "data": {
      "text/html": [
       "<div>\n",
       "<style scoped>\n",
       "    .dataframe tbody tr th:only-of-type {\n",
       "        vertical-align: middle;\n",
       "    }\n",
       "\n",
       "    .dataframe tbody tr th {\n",
       "        vertical-align: top;\n",
       "    }\n",
       "\n",
       "    .dataframe thead th {\n",
       "        text-align: right;\n",
       "    }\n",
       "</style>\n",
       "<table border=\"1\" class=\"dataframe\">\n",
       "  <thead>\n",
       "    <tr style=\"text-align: right;\">\n",
       "      <th></th>\n",
       "      <th>species_id</th>\n",
       "      <th>hindfoot_length</th>\n",
       "    </tr>\n",
       "    <tr>\n",
       "      <th>record_id</th>\n",
       "      <th></th>\n",
       "      <th></th>\n",
       "    </tr>\n",
       "  </thead>\n",
       "  <tbody>\n",
       "    <tr>\n",
       "      <th>1</th>\n",
       "      <td>NL</td>\n",
       "      <td>32.0</td>\n",
       "    </tr>\n",
       "    <tr>\n",
       "      <th>2</th>\n",
       "      <td>NL</td>\n",
       "      <td>33.0</td>\n",
       "    </tr>\n",
       "    <tr>\n",
       "      <th>3</th>\n",
       "      <td>DM</td>\n",
       "      <td>37.0</td>\n",
       "    </tr>\n",
       "    <tr>\n",
       "      <th>4</th>\n",
       "      <td>DM</td>\n",
       "      <td>36.0</td>\n",
       "    </tr>\n",
       "    <tr>\n",
       "      <th>5</th>\n",
       "      <td>DM</td>\n",
       "      <td>35.0</td>\n",
       "    </tr>\n",
       "  </tbody>\n",
       "</table>\n",
       "</div>"
      ],
      "text/plain": [
       "          species_id  hindfoot_length\n",
       "record_id                            \n",
       "1                 NL             32.0\n",
       "2                 NL             33.0\n",
       "3                 DM             37.0\n",
       "4                 DM             36.0\n",
       "5                 DM             35.0"
      ]
     },
     "execution_count": 40,
     "metadata": {},
     "output_type": "execute_result"
    }
   ],
   "source": [
    "#Subset just the two columns from the full dataframe\n",
    "selection = surveys_df[['species_id','hindfoot_length']]\n",
    "selection.head()"
   ]
  },
  {
   "cell_type": "code",
   "execution_count": 41,
   "metadata": {},
   "outputs": [
    {
     "data": {
      "text/plain": [
       "pandas.core.frame.DataFrame"
      ]
     },
     "execution_count": 41,
     "metadata": {},
     "output_type": "execute_result"
    }
   ],
   "source": [
    "#Reveal what is returned - it's a dataframe\n",
    "type(selection)"
   ]
  },
  {
   "cell_type": "code",
   "execution_count": 42,
   "metadata": {},
   "outputs": [
    {
     "data": {
      "text/plain": [
       "(35549, 2)"
      ]
     },
     "execution_count": 42,
     "metadata": {},
     "output_type": "execute_result"
    }
   ],
   "source": [
    "#Reveal the shape of the new dataframe\n",
    "selection.shape"
   ]
  },
  {
   "cell_type": "markdown",
   "metadata": {},
   "source": [
    "**Note**: if we select just one column, the obejct returns is a **series**, not a dataframe. \n",
    ">A **series** is simply one column of data. However, it has a different set of properties and methods. "
   ]
  },
  {
   "cell_type": "code",
   "execution_count": 43,
   "metadata": {},
   "outputs": [
    {
     "data": {
      "text/plain": [
       "record_id\n",
       "1    32.0\n",
       "2    33.0\n",
       "3    37.0\n",
       "4    36.0\n",
       "5    35.0\n",
       "Name: hindfoot_length, dtype: float64"
      ]
     },
     "execution_count": 43,
     "metadata": {},
     "output_type": "execute_result"
    }
   ],
   "source": [
    "one_col = surveys_df['hindfoot_length']\n",
    "one_col.head()"
   ]
  },
  {
   "cell_type": "code",
   "execution_count": 44,
   "metadata": {},
   "outputs": [
    {
     "data": {
      "text/plain": [
       "pandas.core.series.Series"
      ]
     },
     "execution_count": 44,
     "metadata": {},
     "output_type": "execute_result"
    }
   ],
   "source": [
    "type(one_col)"
   ]
  },
  {
   "cell_type": "markdown",
   "metadata": {},
   "source": [
    ">**NOTE**: You can also retreive a column using a different syntax:\n",
    "```python\n",
    "surveys_df.hindfoot_length\n",
    "```\n",
    "This syntax works only if the column name is a valid name for a Python variable (e.g. the column name should not contain whitespace). The syntax data[\"column\"] works for all kinds of column names, so we recommend using this approach. Also, things may get ugly if you have a column name that conflicts with a property of your dataframe. For example, what if your column name was \"`shape`\"??"
   ]
  },
  {
   "cell_type": "code",
   "execution_count": 45,
   "metadata": {},
   "outputs": [
    {
     "data": {
      "text/plain": [
       "record_id\n",
       "1        32.0\n",
       "2        33.0\n",
       "3        37.0\n",
       "4        36.0\n",
       "5        35.0\n",
       "         ... \n",
       "35545     NaN\n",
       "35546     NaN\n",
       "35547    15.0\n",
       "35548    36.0\n",
       "35549     NaN\n",
       "Name: hindfoot_length, Length: 35549, dtype: float64"
      ]
     },
     "execution_count": 45,
     "metadata": {},
     "output_type": "execute_result"
    }
   ],
   "source": [
    "surveys_df.hindfoot_length"
   ]
  },
  {
   "cell_type": "markdown",
   "metadata": {},
   "source": [
    "## 5. Descriptive Statistics\n",
    "Pandas DataFrames and Series contain useful methods for getting summary statistics. Available methods include `mean()`, `median()`, `min()`, `max()`, and `std()` (the standard deviation).\n",
    "\n",
    "We could, for example, check the mean hindfoot length in our input data. We check the mean for a single column (Series):"
   ]
  },
  {
   "cell_type": "code",
   "execution_count": 46,
   "metadata": {},
   "outputs": [
    {
     "data": {
      "text/plain": [
       "29.287931802277498"
      ]
     },
     "execution_count": 46,
     "metadata": {},
     "output_type": "execute_result"
    }
   ],
   "source": [
    "#Compute the mean hindfoot length\n",
    "surveys_df['hindfoot_length'].mean()"
   ]
  },
  {
   "cell_type": "markdown",
   "metadata": {},
   "source": [
    "Try computing some other summary stats for either of our two numeric columns (`hindfoot_lenght` or `weight`) using the statements mentioned above. "
   ]
  },
  {
   "cell_type": "code",
   "execution_count": 47,
   "metadata": {},
   "outputs": [
    {
     "data": {
      "text/plain": [
       "32283"
      ]
     },
     "execution_count": 47,
     "metadata": {},
     "output_type": "execute_result"
    }
   ],
   "source": [
    "# Compute the count of weight records\n",
    "surveys_df.weight.count()"
   ]
  },
  {
   "cell_type": "code",
   "execution_count": 50,
   "metadata": {},
   "outputs": [
    {
     "data": {
      "text/plain": [
       "36.63125947458358"
      ]
     },
     "execution_count": 50,
     "metadata": {},
     "output_type": "execute_result"
    }
   ],
   "source": [
    "# Compute the standard deviation of weights\n",
    "surveys_df.weight.std()"
   ]
  },
  {
   "cell_type": "code",
   "execution_count": 51,
   "metadata": {},
   "outputs": [
    {
     "data": {
      "text/plain": [
       "37.0"
      ]
     },
     "execution_count": 51,
     "metadata": {},
     "output_type": "execute_result"
    }
   ],
   "source": [
    "# Compute the median weight\n",
    "surveys_df.weight.median()"
   ]
  },
  {
   "cell_type": "code",
   "execution_count": 52,
   "metadata": {},
   "outputs": [
    {
     "name": "stdout",
     "output_type": "stream",
     "text": [
      "The study spanned fro 1977 to 2002\n"
     ]
    }
   ],
   "source": [
    "# What were the first and last years of the survey\n",
    "first_year = surveys_df.year.min()\n",
    "last_year = surveys_df.year.max()\n",
    "print(f\"The study spanned fro {first_year} to {last_year}\")"
   ]
  },
  {
   "cell_type": "markdown",
   "metadata": {},
   "source": [
    "A few more complex ones are **quantiles** and **correlations**:\n",
    "\n",
    "→ First, percentiles using the `quantiles()` function, where we pass in the percent to compute:"
   ]
  },
  {
   "cell_type": "code",
   "execution_count": 53,
   "metadata": {},
   "outputs": [
    {
     "data": {
      "text/plain": [
       "20.0"
      ]
     },
     "execution_count": 53,
     "metadata": {},
     "output_type": "execute_result"
    }
   ],
   "source": [
    "#Compute a the 25th percentile of weight\n",
    "surveys_df['weight'].quantile(0.25)"
   ]
  },
  {
   "cell_type": "code",
   "execution_count": 54,
   "metadata": {},
   "outputs": [
    {
     "data": {
      "text/plain": [
       "True"
      ]
     },
     "execution_count": 54,
     "metadata": {},
     "output_type": "execute_result"
    }
   ],
   "source": [
    "#Change the above to compute the 50th percentile; does it equal the median?\n",
    "surveys_df['weight'].median() == surveys_df['weight'].quantile(0.5)"
   ]
  },
  {
   "cell_type": "markdown",
   "metadata": {},
   "source": [
    "→ Now to compute **variable pairwise coorelations**. Here we'll use the HUC12 land cover data and display pairwise correlation values among its variables (using the default Pearson method as a table"
   ]
  },
  {
   "cell_type": "code",
   "execution_count": 55,
   "metadata": {},
   "outputs": [
    {
     "data": {
      "text/html": [
       "<div>\n",
       "<style scoped>\n",
       "    .dataframe tbody tr th:only-of-type {\n",
       "        vertical-align: middle;\n",
       "    }\n",
       "\n",
       "    .dataframe tbody tr th {\n",
       "        vertical-align: top;\n",
       "    }\n",
       "\n",
       "    .dataframe thead th {\n",
       "        text-align: right;\n",
       "    }\n",
       "</style>\n",
       "<table border=\"1\" class=\"dataframe\">\n",
       "  <thead>\n",
       "    <tr style=\"text-align: right;\">\n",
       "      <th></th>\n",
       "      <th>N_INDEX</th>\n",
       "      <th>PFOR</th>\n",
       "      <th>PWETL</th>\n",
       "      <th>PDEV</th>\n",
       "      <th>PAGT</th>\n",
       "      <th>PAGP</th>\n",
       "      <th>PAGC</th>\n",
       "      <th>PFOR90</th>\n",
       "      <th>PWETL95</th>\n",
       "    </tr>\n",
       "  </thead>\n",
       "  <tbody>\n",
       "    <tr>\n",
       "      <th>N_INDEX</th>\n",
       "      <td>1.000000</td>\n",
       "      <td>0.367794</td>\n",
       "      <td>0.044720</td>\n",
       "      <td>-0.399696</td>\n",
       "      <td>-0.934791</td>\n",
       "      <td>-0.411476</td>\n",
       "      <td>-0.859017</td>\n",
       "      <td>0.360184</td>\n",
       "      <td>0.021626</td>\n",
       "    </tr>\n",
       "    <tr>\n",
       "      <th>PFOR</th>\n",
       "      <td>0.367794</td>\n",
       "      <td>1.000000</td>\n",
       "      <td>-0.017961</td>\n",
       "      <td>-0.065782</td>\n",
       "      <td>-0.374507</td>\n",
       "      <td>0.024981</td>\n",
       "      <td>-0.422649</td>\n",
       "      <td>0.952044</td>\n",
       "      <td>-0.088220</td>\n",
       "    </tr>\n",
       "    <tr>\n",
       "      <th>PWETL</th>\n",
       "      <td>0.044720</td>\n",
       "      <td>-0.017961</td>\n",
       "      <td>1.000000</td>\n",
       "      <td>0.049588</td>\n",
       "      <td>-0.066947</td>\n",
       "      <td>-0.025664</td>\n",
       "      <td>-0.063482</td>\n",
       "      <td>0.254574</td>\n",
       "      <td>0.639401</td>\n",
       "    </tr>\n",
       "    <tr>\n",
       "      <th>PDEV</th>\n",
       "      <td>-0.399696</td>\n",
       "      <td>-0.065782</td>\n",
       "      <td>0.049588</td>\n",
       "      <td>1.000000</td>\n",
       "      <td>0.055561</td>\n",
       "      <td>0.075756</td>\n",
       "      <td>0.029833</td>\n",
       "      <td>-0.046137</td>\n",
       "      <td>0.018546</td>\n",
       "    </tr>\n",
       "    <tr>\n",
       "      <th>PAGT</th>\n",
       "      <td>-0.934791</td>\n",
       "      <td>-0.374507</td>\n",
       "      <td>-0.066947</td>\n",
       "      <td>0.055561</td>\n",
       "      <td>1.000000</td>\n",
       "      <td>0.421073</td>\n",
       "      <td>0.926845</td>\n",
       "      <td>-0.373567</td>\n",
       "      <td>-0.030295</td>\n",
       "    </tr>\n",
       "    <tr>\n",
       "      <th>PAGP</th>\n",
       "      <td>-0.411476</td>\n",
       "      <td>0.024981</td>\n",
       "      <td>-0.025664</td>\n",
       "      <td>0.075756</td>\n",
       "      <td>0.421073</td>\n",
       "      <td>1.000000</td>\n",
       "      <td>0.049823</td>\n",
       "      <td>0.018213</td>\n",
       "      <td>-0.025271</td>\n",
       "    </tr>\n",
       "    <tr>\n",
       "      <th>PAGC</th>\n",
       "      <td>-0.859017</td>\n",
       "      <td>-0.422649</td>\n",
       "      <td>-0.063482</td>\n",
       "      <td>0.029833</td>\n",
       "      <td>0.926845</td>\n",
       "      <td>0.049823</td>\n",
       "      <td>1.000000</td>\n",
       "      <td>-0.418931</td>\n",
       "      <td>-0.023100</td>\n",
       "    </tr>\n",
       "    <tr>\n",
       "      <th>PFOR90</th>\n",
       "      <td>0.360184</td>\n",
       "      <td>0.952044</td>\n",
       "      <td>0.254574</td>\n",
       "      <td>-0.046137</td>\n",
       "      <td>-0.373567</td>\n",
       "      <td>0.018213</td>\n",
       "      <td>-0.418931</td>\n",
       "      <td>1.000000</td>\n",
       "      <td>-0.018254</td>\n",
       "    </tr>\n",
       "    <tr>\n",
       "      <th>PWETL95</th>\n",
       "      <td>0.021626</td>\n",
       "      <td>-0.088220</td>\n",
       "      <td>0.639401</td>\n",
       "      <td>0.018546</td>\n",
       "      <td>-0.030295</td>\n",
       "      <td>-0.025271</td>\n",
       "      <td>-0.023100</td>\n",
       "      <td>-0.018254</td>\n",
       "      <td>1.000000</td>\n",
       "    </tr>\n",
       "  </tbody>\n",
       "</table>\n",
       "</div>"
      ],
      "text/plain": [
       "          N_INDEX      PFOR     PWETL      PDEV      PAGT      PAGP      PAGC  \\\n",
       "N_INDEX  1.000000  0.367794  0.044720 -0.399696 -0.934791 -0.411476 -0.859017   \n",
       "PFOR     0.367794  1.000000 -0.017961 -0.065782 -0.374507  0.024981 -0.422649   \n",
       "PWETL    0.044720 -0.017961  1.000000  0.049588 -0.066947 -0.025664 -0.063482   \n",
       "PDEV    -0.399696 -0.065782  0.049588  1.000000  0.055561  0.075756  0.029833   \n",
       "PAGT    -0.934791 -0.374507 -0.066947  0.055561  1.000000  0.421073  0.926845   \n",
       "PAGP    -0.411476  0.024981 -0.025664  0.075756  0.421073  1.000000  0.049823   \n",
       "PAGC    -0.859017 -0.422649 -0.063482  0.029833  0.926845  0.049823  1.000000   \n",
       "PFOR90   0.360184  0.952044  0.254574 -0.046137 -0.373567  0.018213 -0.418931   \n",
       "PWETL95  0.021626 -0.088220  0.639401  0.018546 -0.030295 -0.025271 -0.023100   \n",
       "\n",
       "           PFOR90   PWETL95  \n",
       "N_INDEX  0.360184  0.021626  \n",
       "PFOR     0.952044 -0.088220  \n",
       "PWETL    0.254574  0.639401  \n",
       "PDEV    -0.046137  0.018546  \n",
       "PAGT    -0.373567 -0.030295  \n",
       "PAGP     0.018213 -0.025271  \n",
       "PAGC    -0.418931 -0.023100  \n",
       "PFOR90   1.000000 -0.018254  \n",
       "PWETL95 -0.018254  1.000000  "
      ]
     },
     "execution_count": 55,
     "metadata": {},
     "output_type": "execute_result"
    }
   ],
   "source": [
    "#Create a pairwise correlation table among variables in the land_df dataframe\n",
    "land_df.corr()"
   ]
  },
  {
   "cell_type": "markdown",
   "metadata": {},
   "source": [
    "**TIP**: Using visualization tricks that we'll touch on later, we can style our table, making it much more informative..."
   ]
  },
  {
   "cell_type": "code",
   "execution_count": 56,
   "metadata": {},
   "outputs": [
    {
     "data": {
      "text/html": [
       "<style  type=\"text/css\" >\n",
       "    #T_cbdaf366_2241_11eb_acf4_005056a1fdf4row0_col0 {\n",
       "            background-color:  #081d58;\n",
       "            color:  #f1f1f1;\n",
       "        }    #T_cbdaf366_2241_11eb_acf4_005056a1fdf4row0_col1 {\n",
       "            background-color:  #31a5c2;\n",
       "            color:  #000000;\n",
       "        }    #T_cbdaf366_2241_11eb_acf4_005056a1fdf4row0_col2 {\n",
       "            background-color:  #f0f9b8;\n",
       "            color:  #000000;\n",
       "        }    #T_cbdaf366_2241_11eb_acf4_005056a1fdf4row0_col3 {\n",
       "            background-color:  #ffffd9;\n",
       "            color:  #000000;\n",
       "        }    #T_cbdaf366_2241_11eb_acf4_005056a1fdf4row0_col4 {\n",
       "            background-color:  #ffffd9;\n",
       "            color:  #000000;\n",
       "        }    #T_cbdaf366_2241_11eb_acf4_005056a1fdf4row0_col5 {\n",
       "            background-color:  #ffffd9;\n",
       "            color:  #000000;\n",
       "        }    #T_cbdaf366_2241_11eb_acf4_005056a1fdf4row0_col6 {\n",
       "            background-color:  #ffffd9;\n",
       "            color:  #000000;\n",
       "        }    #T_cbdaf366_2241_11eb_acf4_005056a1fdf4row0_col7 {\n",
       "            background-color:  #33a7c2;\n",
       "            color:  #000000;\n",
       "        }    #T_cbdaf366_2241_11eb_acf4_005056a1fdf4row0_col8 {\n",
       "            background-color:  #f1faba;\n",
       "            color:  #000000;\n",
       "        }    #T_cbdaf366_2241_11eb_acf4_005056a1fdf4row1_col0 {\n",
       "            background-color:  #1f7db6;\n",
       "            color:  #000000;\n",
       "        }    #T_cbdaf366_2241_11eb_acf4_005056a1fdf4row1_col1 {\n",
       "            background-color:  #081d58;\n",
       "            color:  #f1f1f1;\n",
       "        }    #T_cbdaf366_2241_11eb_acf4_005056a1fdf4row1_col2 {\n",
       "            background-color:  #f9fdcb;\n",
       "            color:  #000000;\n",
       "        }    #T_cbdaf366_2241_11eb_acf4_005056a1fdf4row1_col3 {\n",
       "            background-color:  #caeab4;\n",
       "            color:  #000000;\n",
       "        }    #T_cbdaf366_2241_11eb_acf4_005056a1fdf4row1_col4 {\n",
       "            background-color:  #b0e0b6;\n",
       "            color:  #000000;\n",
       "        }    #T_cbdaf366_2241_11eb_acf4_005056a1fdf4row1_col5 {\n",
       "            background-color:  #a5dcb7;\n",
       "            color:  #000000;\n",
       "        }    #T_cbdaf366_2241_11eb_acf4_005056a1fdf4row1_col6 {\n",
       "            background-color:  #cbebb4;\n",
       "            color:  #000000;\n",
       "        }    #T_cbdaf366_2241_11eb_acf4_005056a1fdf4row1_col7 {\n",
       "            background-color:  #0f2367;\n",
       "            color:  #f1f1f1;\n",
       "        }    #T_cbdaf366_2241_11eb_acf4_005056a1fdf4row1_col8 {\n",
       "            background-color:  #ffffd9;\n",
       "            color:  #000000;\n",
       "        }    #T_cbdaf366_2241_11eb_acf4_005056a1fdf4row2_col0 {\n",
       "            background-color:  #3fb4c4;\n",
       "            color:  #000000;\n",
       "        }    #T_cbdaf366_2241_11eb_acf4_005056a1fdf4row2_col1 {\n",
       "            background-color:  #b4e2b6;\n",
       "            color:  #000000;\n",
       "        }    #T_cbdaf366_2241_11eb_acf4_005056a1fdf4row2_col2 {\n",
       "            background-color:  #081d58;\n",
       "            color:  #f1f1f1;\n",
       "        }    #T_cbdaf366_2241_11eb_acf4_005056a1fdf4row2_col3 {\n",
       "            background-color:  #9ed9b8;\n",
       "            color:  #000000;\n",
       "        }    #T_cbdaf366_2241_11eb_acf4_005056a1fdf4row2_col4 {\n",
       "            background-color:  #5bc0c0;\n",
       "            color:  #000000;\n",
       "        }    #T_cbdaf366_2241_11eb_acf4_005056a1fdf4row2_col5 {\n",
       "            background-color:  #bbe4b5;\n",
       "            color:  #000000;\n",
       "        }    #T_cbdaf366_2241_11eb_acf4_005056a1fdf4row2_col6 {\n",
       "            background-color:  #65c3bf;\n",
       "            color:  #000000;\n",
       "        }    #T_cbdaf366_2241_11eb_acf4_005056a1fdf4row2_col7 {\n",
       "            background-color:  #4ebbc2;\n",
       "            color:  #000000;\n",
       "        }    #T_cbdaf366_2241_11eb_acf4_005056a1fdf4row2_col8 {\n",
       "            background-color:  #1f7eb7;\n",
       "            color:  #000000;\n",
       "        }    #T_cbdaf366_2241_11eb_acf4_005056a1fdf4row3_col0 {\n",
       "            background-color:  #b9e4b5;\n",
       "            color:  #000000;\n",
       "        }    #T_cbdaf366_2241_11eb_acf4_005056a1fdf4row3_col1 {\n",
       "            background-color:  #c6e9b4;\n",
       "            color:  #000000;\n",
       "        }    #T_cbdaf366_2241_11eb_acf4_005056a1fdf4row3_col2 {\n",
       "            background-color:  #f0f9b7;\n",
       "            color:  #000000;\n",
       "        }    #T_cbdaf366_2241_11eb_acf4_005056a1fdf4row3_col3 {\n",
       "            background-color:  #081d58;\n",
       "            color:  #f1f1f1;\n",
       "        }    #T_cbdaf366_2241_11eb_acf4_005056a1fdf4row3_col4 {\n",
       "            background-color:  #3db2c4;\n",
       "            color:  #000000;\n",
       "        }    #T_cbdaf366_2241_11eb_acf4_005056a1fdf4row3_col5 {\n",
       "            background-color:  #90d4b9;\n",
       "            color:  #000000;\n",
       "        }    #T_cbdaf366_2241_11eb_acf4_005056a1fdf4row3_col6 {\n",
       "            background-color:  #4cbac2;\n",
       "            color:  #000000;\n",
       "        }    #T_cbdaf366_2241_11eb_acf4_005056a1fdf4row3_col7 {\n",
       "            background-color:  #c0e6b5;\n",
       "            color:  #000000;\n",
       "        }    #T_cbdaf366_2241_11eb_acf4_005056a1fdf4row3_col8 {\n",
       "            background-color:  #f1faba;\n",
       "            color:  #000000;\n",
       "        }    #T_cbdaf366_2241_11eb_acf4_005056a1fdf4row4_col0 {\n",
       "            background-color:  #ffffd9;\n",
       "            color:  #000000;\n",
       "        }    #T_cbdaf366_2241_11eb_acf4_005056a1fdf4row4_col1 {\n",
       "            background-color:  #fafdcf;\n",
       "            color:  #000000;\n",
       "        }    #T_cbdaf366_2241_11eb_acf4_005056a1fdf4row4_col2 {\n",
       "            background-color:  #ffffd9;\n",
       "            color:  #000000;\n",
       "        }    #T_cbdaf366_2241_11eb_acf4_005056a1fdf4row4_col3 {\n",
       "            background-color:  #9cd8b8;\n",
       "            color:  #000000;\n",
       "        }    #T_cbdaf366_2241_11eb_acf4_005056a1fdf4row4_col4 {\n",
       "            background-color:  #081d58;\n",
       "            color:  #f1f1f1;\n",
       "        }    #T_cbdaf366_2241_11eb_acf4_005056a1fdf4row4_col5 {\n",
       "            background-color:  #289cc1;\n",
       "            color:  #000000;\n",
       "        }    #T_cbdaf366_2241_11eb_acf4_005056a1fdf4row4_col6 {\n",
       "            background-color:  #11246b;\n",
       "            color:  #f1f1f1;\n",
       "        }    #T_cbdaf366_2241_11eb_acf4_005056a1fdf4row4_col7 {\n",
       "            background-color:  #fafdcf;\n",
       "            color:  #000000;\n",
       "        }    #T_cbdaf366_2241_11eb_acf4_005056a1fdf4row4_col8 {\n",
       "            background-color:  #f8fcc9;\n",
       "            color:  #000000;\n",
       "        }    #T_cbdaf366_2241_11eb_acf4_005056a1fdf4row5_col0 {\n",
       "            background-color:  #bbe4b5;\n",
       "            color:  #000000;\n",
       "        }    #T_cbdaf366_2241_11eb_acf4_005056a1fdf4row5_col1 {\n",
       "            background-color:  #a2dbb8;\n",
       "            color:  #000000;\n",
       "        }    #T_cbdaf366_2241_11eb_acf4_005056a1fdf4row5_col2 {\n",
       "            background-color:  #fafdce;\n",
       "            color:  #000000;\n",
       "        }    #T_cbdaf366_2241_11eb_acf4_005056a1fdf4row5_col3 {\n",
       "            background-color:  #95d5b9;\n",
       "            color:  #000000;\n",
       "        }    #T_cbdaf366_2241_11eb_acf4_005056a1fdf4row5_col4 {\n",
       "            background-color:  #2072b1;\n",
       "            color:  #f1f1f1;\n",
       "        }    #T_cbdaf366_2241_11eb_acf4_005056a1fdf4row5_col5 {\n",
       "            background-color:  #081d58;\n",
       "            color:  #f1f1f1;\n",
       "        }    #T_cbdaf366_2241_11eb_acf4_005056a1fdf4row5_col6 {\n",
       "            background-color:  #46b8c3;\n",
       "            color:  #000000;\n",
       "        }    #T_cbdaf366_2241_11eb_acf4_005056a1fdf4row5_col7 {\n",
       "            background-color:  #a7dcb7;\n",
       "            color:  #000000;\n",
       "        }    #T_cbdaf366_2241_11eb_acf4_005056a1fdf4row5_col8 {\n",
       "            background-color:  #f7fcc7;\n",
       "            color:  #000000;\n",
       "        }    #T_cbdaf366_2241_11eb_acf4_005056a1fdf4row6_col0 {\n",
       "            background-color:  #f9fdcc;\n",
       "            color:  #000000;\n",
       "        }    #T_cbdaf366_2241_11eb_acf4_005056a1fdf4row6_col1 {\n",
       "            background-color:  #ffffd9;\n",
       "            color:  #000000;\n",
       "        }    #T_cbdaf366_2241_11eb_acf4_005056a1fdf4row6_col2 {\n",
       "            background-color:  #ffffd9;\n",
       "            color:  #000000;\n",
       "        }    #T_cbdaf366_2241_11eb_acf4_005056a1fdf4row6_col3 {\n",
       "            background-color:  #a7dcb7;\n",
       "            color:  #000000;\n",
       "        }    #T_cbdaf366_2241_11eb_acf4_005056a1fdf4row6_col4 {\n",
       "            background-color:  #102369;\n",
       "            color:  #f1f1f1;\n",
       "        }    #T_cbdaf366_2241_11eb_acf4_005056a1fdf4row6_col5 {\n",
       "            background-color:  #9cd8b8;\n",
       "            color:  #000000;\n",
       "        }    #T_cbdaf366_2241_11eb_acf4_005056a1fdf4row6_col6 {\n",
       "            background-color:  #081d58;\n",
       "            color:  #f1f1f1;\n",
       "        }    #T_cbdaf366_2241_11eb_acf4_005056a1fdf4row6_col7 {\n",
       "            background-color:  #ffffd9;\n",
       "            color:  #000000;\n",
       "        }    #T_cbdaf366_2241_11eb_acf4_005056a1fdf4row6_col8 {\n",
       "            background-color:  #f7fcc6;\n",
       "            color:  #000000;\n",
       "        }    #T_cbdaf366_2241_11eb_acf4_005056a1fdf4row7_col0 {\n",
       "            background-color:  #1f7eb7;\n",
       "            color:  #000000;\n",
       "        }    #T_cbdaf366_2241_11eb_acf4_005056a1fdf4row7_col1 {\n",
       "            background-color:  #0f2367;\n",
       "            color:  #f1f1f1;\n",
       "        }    #T_cbdaf366_2241_11eb_acf4_005056a1fdf4row7_col2 {\n",
       "            background-color:  #a9ddb7;\n",
       "            color:  #000000;\n",
       "        }    #T_cbdaf366_2241_11eb_acf4_005056a1fdf4row7_col3 {\n",
       "            background-color:  #c6e9b4;\n",
       "            color:  #000000;\n",
       "        }    #T_cbdaf366_2241_11eb_acf4_005056a1fdf4row7_col4 {\n",
       "            background-color:  #b0e0b6;\n",
       "            color:  #000000;\n",
       "        }    #T_cbdaf366_2241_11eb_acf4_005056a1fdf4row7_col5 {\n",
       "            background-color:  #a9ddb7;\n",
       "            color:  #000000;\n",
       "        }    #T_cbdaf366_2241_11eb_acf4_005056a1fdf4row7_col6 {\n",
       "            background-color:  #cbebb4;\n",
       "            color:  #000000;\n",
       "        }    #T_cbdaf366_2241_11eb_acf4_005056a1fdf4row7_col7 {\n",
       "            background-color:  #081d58;\n",
       "            color:  #f1f1f1;\n",
       "        }    #T_cbdaf366_2241_11eb_acf4_005056a1fdf4row7_col8 {\n",
       "            background-color:  #f6fbc5;\n",
       "            color:  #000000;\n",
       "        }    #T_cbdaf366_2241_11eb_acf4_005056a1fdf4row8_col0 {\n",
       "            background-color:  #44b7c4;\n",
       "            color:  #000000;\n",
       "        }    #T_cbdaf366_2241_11eb_acf4_005056a1fdf4row8_col1 {\n",
       "            background-color:  #cbebb4;\n",
       "            color:  #000000;\n",
       "        }    #T_cbdaf366_2241_11eb_acf4_005056a1fdf4row8_col2 {\n",
       "            background-color:  #1f82b9;\n",
       "            color:  #000000;\n",
       "        }    #T_cbdaf366_2241_11eb_acf4_005056a1fdf4row8_col3 {\n",
       "            background-color:  #abdeb7;\n",
       "            color:  #000000;\n",
       "        }    #T_cbdaf366_2241_11eb_acf4_005056a1fdf4row8_col4 {\n",
       "            background-color:  #52bcc2;\n",
       "            color:  #000000;\n",
       "        }    #T_cbdaf366_2241_11eb_acf4_005056a1fdf4row8_col5 {\n",
       "            background-color:  #b9e4b5;\n",
       "            color:  #000000;\n",
       "        }    #T_cbdaf366_2241_11eb_acf4_005056a1fdf4row8_col6 {\n",
       "            background-color:  #59bfc0;\n",
       "            color:  #000000;\n",
       "        }    #T_cbdaf366_2241_11eb_acf4_005056a1fdf4row8_col7 {\n",
       "            background-color:  #b4e2b6;\n",
       "            color:  #000000;\n",
       "        }    #T_cbdaf366_2241_11eb_acf4_005056a1fdf4row8_col8 {\n",
       "            background-color:  #081d58;\n",
       "            color:  #f1f1f1;\n",
       "        }</style><table id=\"T_cbdaf366_2241_11eb_acf4_005056a1fdf4\" ><thead>    <tr>        <th class=\"blank level0\" ></th>        <th class=\"col_heading level0 col0\" >N_INDEX</th>        <th class=\"col_heading level0 col1\" >PFOR</th>        <th class=\"col_heading level0 col2\" >PWETL</th>        <th class=\"col_heading level0 col3\" >PDEV</th>        <th class=\"col_heading level0 col4\" >PAGT</th>        <th class=\"col_heading level0 col5\" >PAGP</th>        <th class=\"col_heading level0 col6\" >PAGC</th>        <th class=\"col_heading level0 col7\" >PFOR90</th>        <th class=\"col_heading level0 col8\" >PWETL95</th>    </tr></thead><tbody>\n",
       "                <tr>\n",
       "                        <th id=\"T_cbdaf366_2241_11eb_acf4_005056a1fdf4level0_row0\" class=\"row_heading level0 row0\" >N_INDEX</th>\n",
       "                        <td id=\"T_cbdaf366_2241_11eb_acf4_005056a1fdf4row0_col0\" class=\"data row0 col0\" >1.000000</td>\n",
       "                        <td id=\"T_cbdaf366_2241_11eb_acf4_005056a1fdf4row0_col1\" class=\"data row0 col1\" >0.367794</td>\n",
       "                        <td id=\"T_cbdaf366_2241_11eb_acf4_005056a1fdf4row0_col2\" class=\"data row0 col2\" >0.044720</td>\n",
       "                        <td id=\"T_cbdaf366_2241_11eb_acf4_005056a1fdf4row0_col3\" class=\"data row0 col3\" >-0.399696</td>\n",
       "                        <td id=\"T_cbdaf366_2241_11eb_acf4_005056a1fdf4row0_col4\" class=\"data row0 col4\" >-0.934791</td>\n",
       "                        <td id=\"T_cbdaf366_2241_11eb_acf4_005056a1fdf4row0_col5\" class=\"data row0 col5\" >-0.411476</td>\n",
       "                        <td id=\"T_cbdaf366_2241_11eb_acf4_005056a1fdf4row0_col6\" class=\"data row0 col6\" >-0.859017</td>\n",
       "                        <td id=\"T_cbdaf366_2241_11eb_acf4_005056a1fdf4row0_col7\" class=\"data row0 col7\" >0.360184</td>\n",
       "                        <td id=\"T_cbdaf366_2241_11eb_acf4_005056a1fdf4row0_col8\" class=\"data row0 col8\" >0.021626</td>\n",
       "            </tr>\n",
       "            <tr>\n",
       "                        <th id=\"T_cbdaf366_2241_11eb_acf4_005056a1fdf4level0_row1\" class=\"row_heading level0 row1\" >PFOR</th>\n",
       "                        <td id=\"T_cbdaf366_2241_11eb_acf4_005056a1fdf4row1_col0\" class=\"data row1 col0\" >0.367794</td>\n",
       "                        <td id=\"T_cbdaf366_2241_11eb_acf4_005056a1fdf4row1_col1\" class=\"data row1 col1\" >1.000000</td>\n",
       "                        <td id=\"T_cbdaf366_2241_11eb_acf4_005056a1fdf4row1_col2\" class=\"data row1 col2\" >-0.017961</td>\n",
       "                        <td id=\"T_cbdaf366_2241_11eb_acf4_005056a1fdf4row1_col3\" class=\"data row1 col3\" >-0.065782</td>\n",
       "                        <td id=\"T_cbdaf366_2241_11eb_acf4_005056a1fdf4row1_col4\" class=\"data row1 col4\" >-0.374507</td>\n",
       "                        <td id=\"T_cbdaf366_2241_11eb_acf4_005056a1fdf4row1_col5\" class=\"data row1 col5\" >0.024981</td>\n",
       "                        <td id=\"T_cbdaf366_2241_11eb_acf4_005056a1fdf4row1_col6\" class=\"data row1 col6\" >-0.422649</td>\n",
       "                        <td id=\"T_cbdaf366_2241_11eb_acf4_005056a1fdf4row1_col7\" class=\"data row1 col7\" >0.952044</td>\n",
       "                        <td id=\"T_cbdaf366_2241_11eb_acf4_005056a1fdf4row1_col8\" class=\"data row1 col8\" >-0.088220</td>\n",
       "            </tr>\n",
       "            <tr>\n",
       "                        <th id=\"T_cbdaf366_2241_11eb_acf4_005056a1fdf4level0_row2\" class=\"row_heading level0 row2\" >PWETL</th>\n",
       "                        <td id=\"T_cbdaf366_2241_11eb_acf4_005056a1fdf4row2_col0\" class=\"data row2 col0\" >0.044720</td>\n",
       "                        <td id=\"T_cbdaf366_2241_11eb_acf4_005056a1fdf4row2_col1\" class=\"data row2 col1\" >-0.017961</td>\n",
       "                        <td id=\"T_cbdaf366_2241_11eb_acf4_005056a1fdf4row2_col2\" class=\"data row2 col2\" >1.000000</td>\n",
       "                        <td id=\"T_cbdaf366_2241_11eb_acf4_005056a1fdf4row2_col3\" class=\"data row2 col3\" >0.049588</td>\n",
       "                        <td id=\"T_cbdaf366_2241_11eb_acf4_005056a1fdf4row2_col4\" class=\"data row2 col4\" >-0.066947</td>\n",
       "                        <td id=\"T_cbdaf366_2241_11eb_acf4_005056a1fdf4row2_col5\" class=\"data row2 col5\" >-0.025664</td>\n",
       "                        <td id=\"T_cbdaf366_2241_11eb_acf4_005056a1fdf4row2_col6\" class=\"data row2 col6\" >-0.063482</td>\n",
       "                        <td id=\"T_cbdaf366_2241_11eb_acf4_005056a1fdf4row2_col7\" class=\"data row2 col7\" >0.254574</td>\n",
       "                        <td id=\"T_cbdaf366_2241_11eb_acf4_005056a1fdf4row2_col8\" class=\"data row2 col8\" >0.639401</td>\n",
       "            </tr>\n",
       "            <tr>\n",
       "                        <th id=\"T_cbdaf366_2241_11eb_acf4_005056a1fdf4level0_row3\" class=\"row_heading level0 row3\" >PDEV</th>\n",
       "                        <td id=\"T_cbdaf366_2241_11eb_acf4_005056a1fdf4row3_col0\" class=\"data row3 col0\" >-0.399696</td>\n",
       "                        <td id=\"T_cbdaf366_2241_11eb_acf4_005056a1fdf4row3_col1\" class=\"data row3 col1\" >-0.065782</td>\n",
       "                        <td id=\"T_cbdaf366_2241_11eb_acf4_005056a1fdf4row3_col2\" class=\"data row3 col2\" >0.049588</td>\n",
       "                        <td id=\"T_cbdaf366_2241_11eb_acf4_005056a1fdf4row3_col3\" class=\"data row3 col3\" >1.000000</td>\n",
       "                        <td id=\"T_cbdaf366_2241_11eb_acf4_005056a1fdf4row3_col4\" class=\"data row3 col4\" >0.055561</td>\n",
       "                        <td id=\"T_cbdaf366_2241_11eb_acf4_005056a1fdf4row3_col5\" class=\"data row3 col5\" >0.075756</td>\n",
       "                        <td id=\"T_cbdaf366_2241_11eb_acf4_005056a1fdf4row3_col6\" class=\"data row3 col6\" >0.029833</td>\n",
       "                        <td id=\"T_cbdaf366_2241_11eb_acf4_005056a1fdf4row3_col7\" class=\"data row3 col7\" >-0.046137</td>\n",
       "                        <td id=\"T_cbdaf366_2241_11eb_acf4_005056a1fdf4row3_col8\" class=\"data row3 col8\" >0.018546</td>\n",
       "            </tr>\n",
       "            <tr>\n",
       "                        <th id=\"T_cbdaf366_2241_11eb_acf4_005056a1fdf4level0_row4\" class=\"row_heading level0 row4\" >PAGT</th>\n",
       "                        <td id=\"T_cbdaf366_2241_11eb_acf4_005056a1fdf4row4_col0\" class=\"data row4 col0\" >-0.934791</td>\n",
       "                        <td id=\"T_cbdaf366_2241_11eb_acf4_005056a1fdf4row4_col1\" class=\"data row4 col1\" >-0.374507</td>\n",
       "                        <td id=\"T_cbdaf366_2241_11eb_acf4_005056a1fdf4row4_col2\" class=\"data row4 col2\" >-0.066947</td>\n",
       "                        <td id=\"T_cbdaf366_2241_11eb_acf4_005056a1fdf4row4_col3\" class=\"data row4 col3\" >0.055561</td>\n",
       "                        <td id=\"T_cbdaf366_2241_11eb_acf4_005056a1fdf4row4_col4\" class=\"data row4 col4\" >1.000000</td>\n",
       "                        <td id=\"T_cbdaf366_2241_11eb_acf4_005056a1fdf4row4_col5\" class=\"data row4 col5\" >0.421073</td>\n",
       "                        <td id=\"T_cbdaf366_2241_11eb_acf4_005056a1fdf4row4_col6\" class=\"data row4 col6\" >0.926845</td>\n",
       "                        <td id=\"T_cbdaf366_2241_11eb_acf4_005056a1fdf4row4_col7\" class=\"data row4 col7\" >-0.373567</td>\n",
       "                        <td id=\"T_cbdaf366_2241_11eb_acf4_005056a1fdf4row4_col8\" class=\"data row4 col8\" >-0.030295</td>\n",
       "            </tr>\n",
       "            <tr>\n",
       "                        <th id=\"T_cbdaf366_2241_11eb_acf4_005056a1fdf4level0_row5\" class=\"row_heading level0 row5\" >PAGP</th>\n",
       "                        <td id=\"T_cbdaf366_2241_11eb_acf4_005056a1fdf4row5_col0\" class=\"data row5 col0\" >-0.411476</td>\n",
       "                        <td id=\"T_cbdaf366_2241_11eb_acf4_005056a1fdf4row5_col1\" class=\"data row5 col1\" >0.024981</td>\n",
       "                        <td id=\"T_cbdaf366_2241_11eb_acf4_005056a1fdf4row5_col2\" class=\"data row5 col2\" >-0.025664</td>\n",
       "                        <td id=\"T_cbdaf366_2241_11eb_acf4_005056a1fdf4row5_col3\" class=\"data row5 col3\" >0.075756</td>\n",
       "                        <td id=\"T_cbdaf366_2241_11eb_acf4_005056a1fdf4row5_col4\" class=\"data row5 col4\" >0.421073</td>\n",
       "                        <td id=\"T_cbdaf366_2241_11eb_acf4_005056a1fdf4row5_col5\" class=\"data row5 col5\" >1.000000</td>\n",
       "                        <td id=\"T_cbdaf366_2241_11eb_acf4_005056a1fdf4row5_col6\" class=\"data row5 col6\" >0.049823</td>\n",
       "                        <td id=\"T_cbdaf366_2241_11eb_acf4_005056a1fdf4row5_col7\" class=\"data row5 col7\" >0.018213</td>\n",
       "                        <td id=\"T_cbdaf366_2241_11eb_acf4_005056a1fdf4row5_col8\" class=\"data row5 col8\" >-0.025271</td>\n",
       "            </tr>\n",
       "            <tr>\n",
       "                        <th id=\"T_cbdaf366_2241_11eb_acf4_005056a1fdf4level0_row6\" class=\"row_heading level0 row6\" >PAGC</th>\n",
       "                        <td id=\"T_cbdaf366_2241_11eb_acf4_005056a1fdf4row6_col0\" class=\"data row6 col0\" >-0.859017</td>\n",
       "                        <td id=\"T_cbdaf366_2241_11eb_acf4_005056a1fdf4row6_col1\" class=\"data row6 col1\" >-0.422649</td>\n",
       "                        <td id=\"T_cbdaf366_2241_11eb_acf4_005056a1fdf4row6_col2\" class=\"data row6 col2\" >-0.063482</td>\n",
       "                        <td id=\"T_cbdaf366_2241_11eb_acf4_005056a1fdf4row6_col3\" class=\"data row6 col3\" >0.029833</td>\n",
       "                        <td id=\"T_cbdaf366_2241_11eb_acf4_005056a1fdf4row6_col4\" class=\"data row6 col4\" >0.926845</td>\n",
       "                        <td id=\"T_cbdaf366_2241_11eb_acf4_005056a1fdf4row6_col5\" class=\"data row6 col5\" >0.049823</td>\n",
       "                        <td id=\"T_cbdaf366_2241_11eb_acf4_005056a1fdf4row6_col6\" class=\"data row6 col6\" >1.000000</td>\n",
       "                        <td id=\"T_cbdaf366_2241_11eb_acf4_005056a1fdf4row6_col7\" class=\"data row6 col7\" >-0.418931</td>\n",
       "                        <td id=\"T_cbdaf366_2241_11eb_acf4_005056a1fdf4row6_col8\" class=\"data row6 col8\" >-0.023100</td>\n",
       "            </tr>\n",
       "            <tr>\n",
       "                        <th id=\"T_cbdaf366_2241_11eb_acf4_005056a1fdf4level0_row7\" class=\"row_heading level0 row7\" >PFOR90</th>\n",
       "                        <td id=\"T_cbdaf366_2241_11eb_acf4_005056a1fdf4row7_col0\" class=\"data row7 col0\" >0.360184</td>\n",
       "                        <td id=\"T_cbdaf366_2241_11eb_acf4_005056a1fdf4row7_col1\" class=\"data row7 col1\" >0.952044</td>\n",
       "                        <td id=\"T_cbdaf366_2241_11eb_acf4_005056a1fdf4row7_col2\" class=\"data row7 col2\" >0.254574</td>\n",
       "                        <td id=\"T_cbdaf366_2241_11eb_acf4_005056a1fdf4row7_col3\" class=\"data row7 col3\" >-0.046137</td>\n",
       "                        <td id=\"T_cbdaf366_2241_11eb_acf4_005056a1fdf4row7_col4\" class=\"data row7 col4\" >-0.373567</td>\n",
       "                        <td id=\"T_cbdaf366_2241_11eb_acf4_005056a1fdf4row7_col5\" class=\"data row7 col5\" >0.018213</td>\n",
       "                        <td id=\"T_cbdaf366_2241_11eb_acf4_005056a1fdf4row7_col6\" class=\"data row7 col6\" >-0.418931</td>\n",
       "                        <td id=\"T_cbdaf366_2241_11eb_acf4_005056a1fdf4row7_col7\" class=\"data row7 col7\" >1.000000</td>\n",
       "                        <td id=\"T_cbdaf366_2241_11eb_acf4_005056a1fdf4row7_col8\" class=\"data row7 col8\" >-0.018254</td>\n",
       "            </tr>\n",
       "            <tr>\n",
       "                        <th id=\"T_cbdaf366_2241_11eb_acf4_005056a1fdf4level0_row8\" class=\"row_heading level0 row8\" >PWETL95</th>\n",
       "                        <td id=\"T_cbdaf366_2241_11eb_acf4_005056a1fdf4row8_col0\" class=\"data row8 col0\" >0.021626</td>\n",
       "                        <td id=\"T_cbdaf366_2241_11eb_acf4_005056a1fdf4row8_col1\" class=\"data row8 col1\" >-0.088220</td>\n",
       "                        <td id=\"T_cbdaf366_2241_11eb_acf4_005056a1fdf4row8_col2\" class=\"data row8 col2\" >0.639401</td>\n",
       "                        <td id=\"T_cbdaf366_2241_11eb_acf4_005056a1fdf4row8_col3\" class=\"data row8 col3\" >0.018546</td>\n",
       "                        <td id=\"T_cbdaf366_2241_11eb_acf4_005056a1fdf4row8_col4\" class=\"data row8 col4\" >-0.030295</td>\n",
       "                        <td id=\"T_cbdaf366_2241_11eb_acf4_005056a1fdf4row8_col5\" class=\"data row8 col5\" >-0.025271</td>\n",
       "                        <td id=\"T_cbdaf366_2241_11eb_acf4_005056a1fdf4row8_col6\" class=\"data row8 col6\" >-0.023100</td>\n",
       "                        <td id=\"T_cbdaf366_2241_11eb_acf4_005056a1fdf4row8_col7\" class=\"data row8 col7\" >-0.018254</td>\n",
       "                        <td id=\"T_cbdaf366_2241_11eb_acf4_005056a1fdf4row8_col8\" class=\"data row8 col8\" >1.000000</td>\n",
       "            </tr>\n",
       "    </tbody></table>"
      ],
      "text/plain": [
       "<pandas.io.formats.style.Styler at 0x22fc9d6ceb8>"
      ]
     },
     "execution_count": 56,
     "metadata": {},
     "output_type": "execute_result"
    }
   ],
   "source": [
    "#Save the correlation table to a variable\n",
    "coorelation_table = land_df.corr()\n",
    "#Show the table, with styling\n",
    "coorelation_table.style.background_gradient(cmap = 'YlGnBu')"
   ]
  },
  {
   "cell_type": "markdown",
   "metadata": {},
   "source": [
    "Pandas also as a `describe()` function that quickly generates descriptive stats for all numeric variables in your dataset."
   ]
  },
  {
   "cell_type": "code",
   "execution_count": 57,
   "metadata": {},
   "outputs": [
    {
     "data": {
      "text/html": [
       "<div>\n",
       "<style scoped>\n",
       "    .dataframe tbody tr th:only-of-type {\n",
       "        vertical-align: middle;\n",
       "    }\n",
       "\n",
       "    .dataframe tbody tr th {\n",
       "        vertical-align: top;\n",
       "    }\n",
       "\n",
       "    .dataframe thead th {\n",
       "        text-align: right;\n",
       "    }\n",
       "</style>\n",
       "<table border=\"1\" class=\"dataframe\">\n",
       "  <thead>\n",
       "    <tr style=\"text-align: right;\">\n",
       "      <th></th>\n",
       "      <th>N_INDEX</th>\n",
       "      <th>PFOR</th>\n",
       "      <th>PWETL</th>\n",
       "      <th>PDEV</th>\n",
       "      <th>PAGT</th>\n",
       "      <th>PAGP</th>\n",
       "      <th>PAGC</th>\n",
       "      <th>PFOR90</th>\n",
       "      <th>PWETL95</th>\n",
       "    </tr>\n",
       "  </thead>\n",
       "  <tbody>\n",
       "    <tr>\n",
       "      <th>count</th>\n",
       "      <td>82915.000000</td>\n",
       "      <td>82915.000000</td>\n",
       "      <td>82915.000000</td>\n",
       "      <td>82915.000000</td>\n",
       "      <td>82915.000000</td>\n",
       "      <td>82915.000000</td>\n",
       "      <td>82915.000000</td>\n",
       "      <td>82915.000000</td>\n",
       "      <td>82915.000000</td>\n",
       "    </tr>\n",
       "    <tr>\n",
       "      <th>mean</th>\n",
       "      <td>68.777414</td>\n",
       "      <td>27.484744</td>\n",
       "      <td>5.232636</td>\n",
       "      <td>6.084254</td>\n",
       "      <td>25.087678</td>\n",
       "      <td>7.121142</td>\n",
       "      <td>17.957483</td>\n",
       "      <td>31.497063</td>\n",
       "      <td>1.220317</td>\n",
       "    </tr>\n",
       "    <tr>\n",
       "      <th>std</th>\n",
       "      <td>32.283685</td>\n",
       "      <td>28.995366</td>\n",
       "      <td>11.965099</td>\n",
       "      <td>11.286652</td>\n",
       "      <td>29.594349</td>\n",
       "      <td>11.119958</td>\n",
       "      <td>26.865132</td>\n",
       "      <td>30.754076</td>\n",
       "      <td>5.653916</td>\n",
       "    </tr>\n",
       "    <tr>\n",
       "      <th>min</th>\n",
       "      <td>0.000000</td>\n",
       "      <td>0.000000</td>\n",
       "      <td>0.000000</td>\n",
       "      <td>0.000000</td>\n",
       "      <td>0.000000</td>\n",
       "      <td>0.000000</td>\n",
       "      <td>0.000000</td>\n",
       "      <td>0.000000</td>\n",
       "      <td>0.000000</td>\n",
       "    </tr>\n",
       "    <tr>\n",
       "      <th>25%</th>\n",
       "      <td>43.397900</td>\n",
       "      <td>0.672056</td>\n",
       "      <td>0.046830</td>\n",
       "      <td>0.764582</td>\n",
       "      <td>0.314477</td>\n",
       "      <td>0.041610</td>\n",
       "      <td>0.031159</td>\n",
       "      <td>1.626115</td>\n",
       "      <td>0.000000</td>\n",
       "    </tr>\n",
       "    <tr>\n",
       "      <th>50%</th>\n",
       "      <td>81.367104</td>\n",
       "      <td>16.115200</td>\n",
       "      <td>0.614392</td>\n",
       "      <td>3.535070</td>\n",
       "      <td>10.843900</td>\n",
       "      <td>1.968300</td>\n",
       "      <td>2.143200</td>\n",
       "      <td>21.746500</td>\n",
       "      <td>0.059898</td>\n",
       "    </tr>\n",
       "    <tr>\n",
       "      <th>75%</th>\n",
       "      <td>98.036251</td>\n",
       "      <td>51.235849</td>\n",
       "      <td>4.096310</td>\n",
       "      <td>6.002915</td>\n",
       "      <td>44.822300</td>\n",
       "      <td>9.737880</td>\n",
       "      <td>28.241400</td>\n",
       "      <td>58.712151</td>\n",
       "      <td>0.528598</td>\n",
       "    </tr>\n",
       "    <tr>\n",
       "      <th>max</th>\n",
       "      <td>100.000000</td>\n",
       "      <td>100.000000</td>\n",
       "      <td>100.000000</td>\n",
       "      <td>100.000000</td>\n",
       "      <td>100.000000</td>\n",
       "      <td>98.775803</td>\n",
       "      <td>100.000000</td>\n",
       "      <td>100.000000</td>\n",
       "      <td>100.000000</td>\n",
       "    </tr>\n",
       "  </tbody>\n",
       "</table>\n",
       "</div>"
      ],
      "text/plain": [
       "            N_INDEX          PFOR         PWETL          PDEV          PAGT  \\\n",
       "count  82915.000000  82915.000000  82915.000000  82915.000000  82915.000000   \n",
       "mean      68.777414     27.484744      5.232636      6.084254     25.087678   \n",
       "std       32.283685     28.995366     11.965099     11.286652     29.594349   \n",
       "min        0.000000      0.000000      0.000000      0.000000      0.000000   \n",
       "25%       43.397900      0.672056      0.046830      0.764582      0.314477   \n",
       "50%       81.367104     16.115200      0.614392      3.535070     10.843900   \n",
       "75%       98.036251     51.235849      4.096310      6.002915     44.822300   \n",
       "max      100.000000    100.000000    100.000000    100.000000    100.000000   \n",
       "\n",
       "               PAGP          PAGC        PFOR90       PWETL95  \n",
       "count  82915.000000  82915.000000  82915.000000  82915.000000  \n",
       "mean       7.121142     17.957483     31.497063      1.220317  \n",
       "std       11.119958     26.865132     30.754076      5.653916  \n",
       "min        0.000000      0.000000      0.000000      0.000000  \n",
       "25%        0.041610      0.031159      1.626115      0.000000  \n",
       "50%        1.968300      2.143200     21.746500      0.059898  \n",
       "75%        9.737880     28.241400     58.712151      0.528598  \n",
       "max       98.775803    100.000000    100.000000    100.000000  "
      ]
     },
     "execution_count": 57,
     "metadata": {},
     "output_type": "execute_result"
    }
   ],
   "source": [
    "#Generate summary stats on all numeric columns in the data\n",
    "land_df.describe()"
   ]
  },
  {
   "cell_type": "markdown",
   "metadata": {},
   "source": [
    "#### Categorical data\n",
    "Descriptive statistics are useful for numeric data. For categorical data, we have other means for summarizing data:\n",
    "* `nunique()`: lists the number of unique values in each column of a dataframe (or in a series)\n",
    "* `unique()` : lists the unique values occuring in the supplied series\n",
    "* `value_counts()` : lists the number of records associated with each unique value\n",
    "\n",
    "_→In exploring these, consider the type of object they return and what you can do with that object..._"
   ]
  },
  {
   "cell_type": "code",
   "execution_count": 58,
   "metadata": {},
   "outputs": [
    {
     "data": {
      "text/plain": [
       "month               12\n",
       "day                 31\n",
       "year                26\n",
       "plot_id             24\n",
       "species_id          48\n",
       "sex                  2\n",
       "hindfoot_length     56\n",
       "weight             255\n",
       "dtype: int64"
      ]
     },
     "execution_count": 58,
     "metadata": {},
     "output_type": "execute_result"
    }
   ],
   "source": [
    "#Reveal how many unique values in each field in the surveys_df dataframe\n",
    "surveys_df.nunique()"
   ]
  },
  {
   "cell_type": "code",
   "execution_count": 59,
   "metadata": {},
   "outputs": [
    {
     "data": {
      "text/plain": [
       "48"
      ]
     },
     "execution_count": 59,
     "metadata": {},
     "output_type": "execute_result"
    }
   ],
   "source": [
    "#Reveal how many unique values occur just in the 'species_id' series\n",
    "surveys_df['species_id'].nunique()"
   ]
  },
  {
   "cell_type": "code",
   "execution_count": 60,
   "metadata": {},
   "outputs": [
    {
     "data": {
      "text/plain": [
       "array(['NL', 'DM', 'PF', 'PE', 'DS', 'PP', 'SH', 'OT', 'DO', 'OX', 'SS',\n",
       "       'OL', 'RM', nan, 'SA', 'PM', 'AH', 'DX', 'AB', 'CB', 'CM', 'CQ',\n",
       "       'RF', 'PC', 'PG', 'PH', 'PU', 'CV', 'UR', 'UP', 'ZL', 'UL', 'CS',\n",
       "       'SC', 'BA', 'SF', 'RO', 'AS', 'SO', 'PI', 'ST', 'CU', 'SU', 'RX',\n",
       "       'PB', 'PL', 'PX', 'CT', 'US'], dtype=object)"
      ]
     },
     "execution_count": 60,
     "metadata": {},
     "output_type": "execute_result"
    }
   ],
   "source": [
    "#List the unique values in the species_id field\n",
    "surveys_df['species_id'].unique()"
   ]
  },
  {
   "cell_type": "code",
   "execution_count": 61,
   "metadata": {},
   "outputs": [
    {
     "data": {
      "text/plain": [
       "7     3633\n",
       "4     3443\n",
       "3     3390\n",
       "5     3073\n",
       "10    3064\n",
       "11    3016\n",
       "12    2799\n",
       "2     2796\n",
       "9     2751\n",
       "6     2697\n",
       "1     2518\n",
       "8     2369\n",
       "Name: month, dtype: int64"
      ]
     },
     "execution_count": 61,
     "metadata": {},
     "output_type": "execute_result"
    }
   ],
   "source": [
    "#List how many records are associated with each unique month record\n",
    "surveys_df['month'].value_counts()"
   ]
  },
  {
   "cell_type": "markdown",
   "metadata": {},
   "source": [
    "---\n",
    "### <font color='red'>*Challenge* - Counts and Lists from Data </font>\n",
    "\n",
    "\n",
    "1. Create a list of unique **plot ID**’s found in the surveys data (much like we did above with the species id values). Call it `plot_names`. How many unique plots are there in the data? How many unique species are in the data?\n",
    "\n",
    "1. What is the difference between `len(plot_names)` and `surveys_df['plot_id'].nunique()`?\n"
   ]
  },
  {
   "cell_type": "code",
   "execution_count": 63,
   "metadata": {},
   "outputs": [
    {
     "data": {
      "text/plain": [
       "array(['2', '3', '7', '1', '6', '5', '8', '4', '11', '14', '15', '13',\n",
       "       '9', '10', '17', '16', '20', '23', '18', '21', '22', '19', '12',\n",
       "       '24'], dtype=object)"
      ]
     },
     "execution_count": 63,
     "metadata": {},
     "output_type": "execute_result"
    }
   ],
   "source": [
    "# Challenge 1\n",
    "plot_names = surveys_df['plot_id'].unique()\n",
    "plot_names"
   ]
  },
  {
   "cell_type": "code",
   "execution_count": 66,
   "metadata": {},
   "outputs": [
    {
     "data": {
      "text/plain": [
       "0"
      ]
     },
     "execution_count": 66,
     "metadata": {},
     "output_type": "execute_result"
    }
   ],
   "source": [
    "# Challenge 2\n",
    "len(plot_names) - surveys_df['plot_id'].nunique()"
   ]
  },
  {
   "cell_type": "markdown",
   "metadata": {},
   "source": [
    "## 6. Some Basic Plots\n",
    "We'll revist visualizations, but as a teaser here are some quick and easy plots of our data. \n",
    "\n",
    "* First a histogram of all the `PFOR` (percent forest) values from the EnviroAtlas data. "
   ]
  },
  {
   "cell_type": "code",
   "execution_count": 67,
   "metadata": {},
   "outputs": [
    {
     "data": {
      "image/png": "[encoded data removed]",
      "text/plain": [
       "<Figure size 432x288 with 1 Axes>"
      ]
     },
     "metadata": {
      "needs_background": "light"
     },
     "output_type": "display_data"
    }
   ],
   "source": [
    "# Create a histogram of values in the PFOR column, in 10 bins\n",
    "land_df['PFOR'].hist(bins=10);"
   ]
  },
  {
   "cell_type": "markdown",
   "metadata": {},
   "source": [
    "* And now, we'll generate histograms for each month of the `weight` values in the `surveys_df` dataframe. We'll also increase the size of the figure to 20 x 20 units."
   ]
  },
  {
   "cell_type": "code",
   "execution_count": 68,
   "metadata": {},
   "outputs": [
    {
     "data": {
      "image/png": "[encoded data removed]",
      "text/plain": [
       "<Figure size 1440x1440 with 12 Axes>"
      ]
     },
     "metadata": {
      "needs_background": "light"
     },
     "output_type": "display_data"
    }
   ],
   "source": [
    "#Plot distributions of weights by month\n",
    "surveys_df.hist(column='weight',by='month',figsize=(20,20));"
   ]
  },
  {
   "cell_type": "code",
   "execution_count": 71,
   "metadata": {},
   "outputs": [
    {
     "data": {
      "image/png": "[encoded data removed]",
      "text/plain": [
       "<Figure size 1440x720 with 1 Axes>"
      ]
     },
     "metadata": {
      "needs_background": "light"
     },
     "output_type": "display_data"
    }
   ],
   "source": [
    "#And finally box plots by month\n",
    "surveys_df.boxplot(column='weight',by='species_id',figsize=(20,10));"
   ]
  },
  {
   "cell_type": "markdown",
   "metadata": {},
   "source": [
    "## Summary\n",
    "While this is a very quick introduction to the Pandas dataframe and series objects, I'm hopeful that you now have an appreciation for the utility of structuring data into a dataframe has -- and now have some command on how to generate and explore dataframes using the Pandas package. \n",
    "\n",
    "Actions you should now be capable of include:\n",
    "* Creating a dataframe from a lists of lists (of equal sizes)\n",
    "* Creating a dataframe from a set of dictionairies (of equal lengths)\n",
    "* Reading data from a CSV file into a Pandas dataframe\n",
    "* Viewing and inspecting properties of the data in your dataframe\n",
    "* Selecting specific columns in your dataframe to a new object\n",
    "* Computing descriptive statistics from your data\n",
    "* Generating a few basic plots\n",
    "\n",
    "### Next up: \n",
    "Next we will explore how we can effectively process data stored in dataframes. "
   ]
  }
 ],
 "metadata": {
  "kernelspec": {
   "display_name": "Python 3",
   "language": "python",
   "name": "python3"
  },
  "language_info": {
   "codemirror_mode": {
    "name": "ipython",
    "version": 3
   },
   "file_extension": ".py",
   "mimetype": "text/x-python",
   "name": "python",
   "nbconvert_exporter": "python",
   "pygments_lexer": "ipython3",
   "version": "3.6.10"
  }
 },
 "nbformat": 4,
 "nbformat_minor": 4
}
